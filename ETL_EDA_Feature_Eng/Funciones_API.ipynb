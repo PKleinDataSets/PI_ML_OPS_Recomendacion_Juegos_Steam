{
  "cells": [
    {
      "cell_type": "markdown",
      "metadata": {
        "id": "KB6PicPELm5h"
      },
      "source": [
        "def developer( desarrollador : str ): Cantidad de items y porcentaje de contenido Free por año según empresa desarrolladora. Ejemplo de retorno:\n",
        "Año\tCantidad de Items\tContenido Free\n",
        "2023\t50\t27%\n",
        "2022\t45\t25%\n",
        "xxxx\txx\txx%\n",
        "def userdata( User_id : str ): Debe devolver cantidad de dinero gastado por el usuario, el porcentaje de recomendación en base a reviews.recommend y cantidad de items.\n",
        "Ejemplo de retorno: {\"Usuario X\" : us213ndjss09sdf, \"Dinero gastado\": 200 USD, \"% de recomendación\": 20%, \"cantidad de items\": 5}\n",
        "\n",
        "def UserForGenre( genero : str ): Debe devolver el usuario que acumula más horas jugadas para el género dado y una lista de la acumulación de horas jugadas por año.\n",
        "Ejemplo de retorno: {\"Usuario con más horas jugadas para Género X\" : us213ndjss09sdf, \"Horas jugadas\":[{Año: 2013, Horas: 203}, {Año: 2012, Horas: 100}, {Año: 2011, Horas: 23}]}\n",
        "\n",
        "def best_developer_year( año : int ): Devuelve el top 3 de desarrolladores con juegos MÁS recomendados por usuarios para el año dado. (reviews.recommend = True y comentarios positivos)\n",
        "Ejemplo de retorno: [{\"Puesto 1\" : X}, {\"Puesto 2\" : Y},{\"Puesto 3\" : Z}]\n",
        "\n",
        "def developer_reviews_analysis( desarrolladora : str ): Según el desarrollador, se devuelve un diccionario con el nombre del desarrollador como llave y una lista con la cantidad total de registros de reseñas de usuarios que se encuentren categorizados con un análisis de sentimiento como valor positivo o negativo.\n",
        "Ejemplo de retorno: {'Valve' : [Negative = 182, Positive = 278]}"
      ]
    },
    {
      "cell_type": "code",
      "execution_count": 168,
      "metadata": {
        "colab": {
          "base_uri": "https://localhost:8080/"
        },
        "id": "FhbgN0VbLfYs",
        "outputId": "2ecdf310-ac38-4081-c5de-2965f603f97a"
      },
      "outputs": [
        {
          "output_type": "stream",
          "name": "stdout",
          "text": [
            "Drive already mounted at /content/drive; to attempt to forcibly remount, call drive.mount(\"/content/drive\", force_remount=True).\n"
          ]
        }
      ],
      "source": [
        "from google.colab import drive\n",
        "drive.mount('/content/drive')"
      ]
    },
    {
      "cell_type": "code",
      "execution_count": 169,
      "metadata": {
        "id": "dZP0wRNHyJ9G"
      },
      "outputs": [],
      "source": [
        "from google.colab import files"
      ]
    },
    {
      "cell_type": "code",
      "execution_count": 170,
      "metadata": {
        "id": "aBPpBle0yNE5"
      },
      "outputs": [],
      "source": [
        "import pandas as pd"
      ]
    },
    {
      "cell_type": "code",
      "execution_count": 171,
      "metadata": {
        "id": "6YApmyhHyXdx"
      },
      "outputs": [],
      "source": [
        "ruta_data = '/content/drive/MyDrive/PI MLOps - STEAM_nuevo/datasets_nuevo/'"
      ]
    },
    {
      "cell_type": "code",
      "execution_count": 172,
      "metadata": {
        "id": "pkFzdMxnyaIn"
      },
      "outputs": [],
      "source": [
        "#ruta_archivo_reviews = ruta_data + 'reviews.parquet'\n",
        "#df_reviews = pd.read_parquet(ruta_archivo_reviews)\n",
        "\n",
        "ruta_archivo_items = ruta_data + 'items.parquet'\n",
        "df_items = pd.read_parquet(ruta_archivo_items)\n",
        "\n",
        "ruta_archivo_reviews_sa = ruta_data + 'reviews_sa.parquet'\n",
        "df_reviews = pd.read_parquet(ruta_archivo_reviews_sa)\n",
        "\n",
        "ruta_archivo_steam = ruta_data + 'steam_games.parquet'\n",
        "df_steam = pd.read_parquet(ruta_archivo_steam)\n",
        "\n",
        "ruta_archivo_steam_ex = ruta_data + 'steam_exploded.parquet'\n",
        "df_steam_exploded = pd.read_parquet(ruta_archivo_steam_ex)"
      ]
    },
    {
      "cell_type": "code",
      "execution_count": 173,
      "metadata": {
        "colab": {
          "base_uri": "https://localhost:8080/"
        },
        "id": "mUeUmgHuzFyg",
        "outputId": "9564000a-f983-428e-ef45-1d683dffffc0"
      },
      "outputs": [
        {
          "output_type": "stream",
          "name": "stdout",
          "text": [
            "<class 'pandas.core.frame.DataFrame'>\n",
            "Int64Index: 48498 entries, 0 to 59276\n",
            "Data columns (total 6 columns):\n",
            " #   Column              Non-Null Count  Dtype \n",
            "---  ------              --------------  ----- \n",
            " 0   user_id             48498 non-null  object\n",
            " 1   posted              48498 non-null  object\n",
            " 2   item_id             48498 non-null  Int64 \n",
            " 3   recommend           48498 non-null  bool  \n",
            " 4   year_posted         48498 non-null  object\n",
            " 5   sentiment_analysis  48498 non-null  int64 \n",
            "dtypes: Int64(1), bool(1), int64(1), object(3)\n",
            "memory usage: 2.3+ MB\n"
          ]
        }
      ],
      "source": [
        "df_reviews.info()"
      ]
    },
    {
      "cell_type": "code",
      "execution_count": 174,
      "metadata": {
        "colab": {
          "base_uri": "https://localhost:8080/",
          "height": 206
        },
        "id": "hpKzv6pLzcve",
        "outputId": "8c779d64-4bda-48d1-a187-9785885b9c6c"
      },
      "outputs": [
        {
          "output_type": "execute_result",
          "data": {
            "text/plain": [
              "             user_id      posted  item_id  recommend year_posted  \\\n",
              "0  76561197970982479  05-11-2011     1250       True        2011   \n",
              "1  76561197970982479  15-07-2011    22200       True        2011   \n",
              "2  76561197970982479  21-04-2011    43110       True        2011   \n",
              "3            js41637  24-06-2014   251610       True        2014   \n",
              "4            js41637  08-09-2013   227300       True        2013   \n",
              "\n",
              "   sentiment_analysis  \n",
              "0                   2  \n",
              "1                   2  \n",
              "2                   2  \n",
              "3                   2  \n",
              "4                   2  "
            ],
            "text/html": [
              "\n",
              "  <div id=\"df-22b9db69-cf3c-41f4-954e-27370f0cbe3f\" class=\"colab-df-container\">\n",
              "    <div>\n",
              "<style scoped>\n",
              "    .dataframe tbody tr th:only-of-type {\n",
              "        vertical-align: middle;\n",
              "    }\n",
              "\n",
              "    .dataframe tbody tr th {\n",
              "        vertical-align: top;\n",
              "    }\n",
              "\n",
              "    .dataframe thead th {\n",
              "        text-align: right;\n",
              "    }\n",
              "</style>\n",
              "<table border=\"1\" class=\"dataframe\">\n",
              "  <thead>\n",
              "    <tr style=\"text-align: right;\">\n",
              "      <th></th>\n",
              "      <th>user_id</th>\n",
              "      <th>posted</th>\n",
              "      <th>item_id</th>\n",
              "      <th>recommend</th>\n",
              "      <th>year_posted</th>\n",
              "      <th>sentiment_analysis</th>\n",
              "    </tr>\n",
              "  </thead>\n",
              "  <tbody>\n",
              "    <tr>\n",
              "      <th>0</th>\n",
              "      <td>76561197970982479</td>\n",
              "      <td>05-11-2011</td>\n",
              "      <td>1250</td>\n",
              "      <td>True</td>\n",
              "      <td>2011</td>\n",
              "      <td>2</td>\n",
              "    </tr>\n",
              "    <tr>\n",
              "      <th>1</th>\n",
              "      <td>76561197970982479</td>\n",
              "      <td>15-07-2011</td>\n",
              "      <td>22200</td>\n",
              "      <td>True</td>\n",
              "      <td>2011</td>\n",
              "      <td>2</td>\n",
              "    </tr>\n",
              "    <tr>\n",
              "      <th>2</th>\n",
              "      <td>76561197970982479</td>\n",
              "      <td>21-04-2011</td>\n",
              "      <td>43110</td>\n",
              "      <td>True</td>\n",
              "      <td>2011</td>\n",
              "      <td>2</td>\n",
              "    </tr>\n",
              "    <tr>\n",
              "      <th>3</th>\n",
              "      <td>js41637</td>\n",
              "      <td>24-06-2014</td>\n",
              "      <td>251610</td>\n",
              "      <td>True</td>\n",
              "      <td>2014</td>\n",
              "      <td>2</td>\n",
              "    </tr>\n",
              "    <tr>\n",
              "      <th>4</th>\n",
              "      <td>js41637</td>\n",
              "      <td>08-09-2013</td>\n",
              "      <td>227300</td>\n",
              "      <td>True</td>\n",
              "      <td>2013</td>\n",
              "      <td>2</td>\n",
              "    </tr>\n",
              "  </tbody>\n",
              "</table>\n",
              "</div>\n",
              "    <div class=\"colab-df-buttons\">\n",
              "\n",
              "  <div class=\"colab-df-container\">\n",
              "    <button class=\"colab-df-convert\" onclick=\"convertToInteractive('df-22b9db69-cf3c-41f4-954e-27370f0cbe3f')\"\n",
              "            title=\"Convert this dataframe to an interactive table.\"\n",
              "            style=\"display:none;\">\n",
              "\n",
              "  <svg xmlns=\"http://www.w3.org/2000/svg\" height=\"24px\" viewBox=\"0 -960 960 960\">\n",
              "    <path d=\"M120-120v-720h720v720H120Zm60-500h600v-160H180v160Zm220 220h160v-160H400v160Zm0 220h160v-160H400v160ZM180-400h160v-160H180v160Zm440 0h160v-160H620v160ZM180-180h160v-160H180v160Zm440 0h160v-160H620v160Z\"/>\n",
              "  </svg>\n",
              "    </button>\n",
              "\n",
              "  <style>\n",
              "    .colab-df-container {\n",
              "      display:flex;\n",
              "      gap: 12px;\n",
              "    }\n",
              "\n",
              "    .colab-df-convert {\n",
              "      background-color: #E8F0FE;\n",
              "      border: none;\n",
              "      border-radius: 50%;\n",
              "      cursor: pointer;\n",
              "      display: none;\n",
              "      fill: #1967D2;\n",
              "      height: 32px;\n",
              "      padding: 0 0 0 0;\n",
              "      width: 32px;\n",
              "    }\n",
              "\n",
              "    .colab-df-convert:hover {\n",
              "      background-color: #E2EBFA;\n",
              "      box-shadow: 0px 1px 2px rgba(60, 64, 67, 0.3), 0px 1px 3px 1px rgba(60, 64, 67, 0.15);\n",
              "      fill: #174EA6;\n",
              "    }\n",
              "\n",
              "    .colab-df-buttons div {\n",
              "      margin-bottom: 4px;\n",
              "    }\n",
              "\n",
              "    [theme=dark] .colab-df-convert {\n",
              "      background-color: #3B4455;\n",
              "      fill: #D2E3FC;\n",
              "    }\n",
              "\n",
              "    [theme=dark] .colab-df-convert:hover {\n",
              "      background-color: #434B5C;\n",
              "      box-shadow: 0px 1px 3px 1px rgba(0, 0, 0, 0.15);\n",
              "      filter: drop-shadow(0px 1px 2px rgba(0, 0, 0, 0.3));\n",
              "      fill: #FFFFFF;\n",
              "    }\n",
              "  </style>\n",
              "\n",
              "    <script>\n",
              "      const buttonEl =\n",
              "        document.querySelector('#df-22b9db69-cf3c-41f4-954e-27370f0cbe3f button.colab-df-convert');\n",
              "      buttonEl.style.display =\n",
              "        google.colab.kernel.accessAllowed ? 'block' : 'none';\n",
              "\n",
              "      async function convertToInteractive(key) {\n",
              "        const element = document.querySelector('#df-22b9db69-cf3c-41f4-954e-27370f0cbe3f');\n",
              "        const dataTable =\n",
              "          await google.colab.kernel.invokeFunction('convertToInteractive',\n",
              "                                                    [key], {});\n",
              "        if (!dataTable) return;\n",
              "\n",
              "        const docLinkHtml = 'Like what you see? Visit the ' +\n",
              "          '<a target=\"_blank\" href=https://colab.research.google.com/notebooks/data_table.ipynb>data table notebook</a>'\n",
              "          + ' to learn more about interactive tables.';\n",
              "        element.innerHTML = '';\n",
              "        dataTable['output_type'] = 'display_data';\n",
              "        await google.colab.output.renderOutput(dataTable, element);\n",
              "        const docLink = document.createElement('div');\n",
              "        docLink.innerHTML = docLinkHtml;\n",
              "        element.appendChild(docLink);\n",
              "      }\n",
              "    </script>\n",
              "  </div>\n",
              "\n",
              "\n",
              "<div id=\"df-d319a093-8b5a-4592-9cef-79434b5b26e1\">\n",
              "  <button class=\"colab-df-quickchart\" onclick=\"quickchart('df-d319a093-8b5a-4592-9cef-79434b5b26e1')\"\n",
              "            title=\"Suggest charts.\"\n",
              "            style=\"display:none;\">\n",
              "\n",
              "<svg xmlns=\"http://www.w3.org/2000/svg\" height=\"24px\"viewBox=\"0 0 24 24\"\n",
              "     width=\"24px\">\n",
              "    <g>\n",
              "        <path d=\"M19 3H5c-1.1 0-2 .9-2 2v14c0 1.1.9 2 2 2h14c1.1 0 2-.9 2-2V5c0-1.1-.9-2-2-2zM9 17H7v-7h2v7zm4 0h-2V7h2v10zm4 0h-2v-4h2v4z\"/>\n",
              "    </g>\n",
              "</svg>\n",
              "  </button>\n",
              "\n",
              "<style>\n",
              "  .colab-df-quickchart {\n",
              "      --bg-color: #E8F0FE;\n",
              "      --fill-color: #1967D2;\n",
              "      --hover-bg-color: #E2EBFA;\n",
              "      --hover-fill-color: #174EA6;\n",
              "      --disabled-fill-color: #AAA;\n",
              "      --disabled-bg-color: #DDD;\n",
              "  }\n",
              "\n",
              "  [theme=dark] .colab-df-quickchart {\n",
              "      --bg-color: #3B4455;\n",
              "      --fill-color: #D2E3FC;\n",
              "      --hover-bg-color: #434B5C;\n",
              "      --hover-fill-color: #FFFFFF;\n",
              "      --disabled-bg-color: #3B4455;\n",
              "      --disabled-fill-color: #666;\n",
              "  }\n",
              "\n",
              "  .colab-df-quickchart {\n",
              "    background-color: var(--bg-color);\n",
              "    border: none;\n",
              "    border-radius: 50%;\n",
              "    cursor: pointer;\n",
              "    display: none;\n",
              "    fill: var(--fill-color);\n",
              "    height: 32px;\n",
              "    padding: 0;\n",
              "    width: 32px;\n",
              "  }\n",
              "\n",
              "  .colab-df-quickchart:hover {\n",
              "    background-color: var(--hover-bg-color);\n",
              "    box-shadow: 0 1px 2px rgba(60, 64, 67, 0.3), 0 1px 3px 1px rgba(60, 64, 67, 0.15);\n",
              "    fill: var(--button-hover-fill-color);\n",
              "  }\n",
              "\n",
              "  .colab-df-quickchart-complete:disabled,\n",
              "  .colab-df-quickchart-complete:disabled:hover {\n",
              "    background-color: var(--disabled-bg-color);\n",
              "    fill: var(--disabled-fill-color);\n",
              "    box-shadow: none;\n",
              "  }\n",
              "\n",
              "  .colab-df-spinner {\n",
              "    border: 2px solid var(--fill-color);\n",
              "    border-color: transparent;\n",
              "    border-bottom-color: var(--fill-color);\n",
              "    animation:\n",
              "      spin 1s steps(1) infinite;\n",
              "  }\n",
              "\n",
              "  @keyframes spin {\n",
              "    0% {\n",
              "      border-color: transparent;\n",
              "      border-bottom-color: var(--fill-color);\n",
              "      border-left-color: var(--fill-color);\n",
              "    }\n",
              "    20% {\n",
              "      border-color: transparent;\n",
              "      border-left-color: var(--fill-color);\n",
              "      border-top-color: var(--fill-color);\n",
              "    }\n",
              "    30% {\n",
              "      border-color: transparent;\n",
              "      border-left-color: var(--fill-color);\n",
              "      border-top-color: var(--fill-color);\n",
              "      border-right-color: var(--fill-color);\n",
              "    }\n",
              "    40% {\n",
              "      border-color: transparent;\n",
              "      border-right-color: var(--fill-color);\n",
              "      border-top-color: var(--fill-color);\n",
              "    }\n",
              "    60% {\n",
              "      border-color: transparent;\n",
              "      border-right-color: var(--fill-color);\n",
              "    }\n",
              "    80% {\n",
              "      border-color: transparent;\n",
              "      border-right-color: var(--fill-color);\n",
              "      border-bottom-color: var(--fill-color);\n",
              "    }\n",
              "    90% {\n",
              "      border-color: transparent;\n",
              "      border-bottom-color: var(--fill-color);\n",
              "    }\n",
              "  }\n",
              "</style>\n",
              "\n",
              "  <script>\n",
              "    async function quickchart(key) {\n",
              "      const quickchartButtonEl =\n",
              "        document.querySelector('#' + key + ' button');\n",
              "      quickchartButtonEl.disabled = true;  // To prevent multiple clicks.\n",
              "      quickchartButtonEl.classList.add('colab-df-spinner');\n",
              "      try {\n",
              "        const charts = await google.colab.kernel.invokeFunction(\n",
              "            'suggestCharts', [key], {});\n",
              "      } catch (error) {\n",
              "        console.error('Error during call to suggestCharts:', error);\n",
              "      }\n",
              "      quickchartButtonEl.classList.remove('colab-df-spinner');\n",
              "      quickchartButtonEl.classList.add('colab-df-quickchart-complete');\n",
              "    }\n",
              "    (() => {\n",
              "      let quickchartButtonEl =\n",
              "        document.querySelector('#df-d319a093-8b5a-4592-9cef-79434b5b26e1 button');\n",
              "      quickchartButtonEl.style.display =\n",
              "        google.colab.kernel.accessAllowed ? 'block' : 'none';\n",
              "    })();\n",
              "  </script>\n",
              "</div>\n",
              "    </div>\n",
              "  </div>\n"
            ]
          },
          "metadata": {},
          "execution_count": 174
        }
      ],
      "source": [
        "df_reviews.head()"
      ]
    },
    {
      "cell_type": "code",
      "execution_count": 175,
      "metadata": {
        "colab": {
          "base_uri": "https://localhost:8080/"
        },
        "id": "Mb_eOvvMzfBM",
        "outputId": "0f5511fa-5241-43ec-f8e2-999addbf17e9"
      },
      "outputs": [
        {
          "output_type": "stream",
          "name": "stdout",
          "text": [
            "<class 'pandas.core.frame.DataFrame'>\n",
            "Int64Index: 48498 entries, 0 to 59276\n",
            "Data columns (total 6 columns):\n",
            " #   Column              Non-Null Count  Dtype \n",
            "---  ------              --------------  ----- \n",
            " 0   user_id             48498 non-null  object\n",
            " 1   posted              48498 non-null  object\n",
            " 2   item_id             48498 non-null  Int64 \n",
            " 3   recommend           48498 non-null  bool  \n",
            " 4   year_posted         48498 non-null  object\n",
            " 5   sentiment_analysis  48498 non-null  int64 \n",
            "dtypes: Int64(1), bool(1), int64(1), object(3)\n",
            "memory usage: 2.3+ MB\n"
          ]
        }
      ],
      "source": [
        "df_reviews.info()"
      ]
    },
    {
      "cell_type": "code",
      "execution_count": 176,
      "metadata": {
        "colab": {
          "base_uri": "https://localhost:8080/",
          "height": 206
        },
        "id": "uo4J0XXHzko0",
        "outputId": "289ed59f-037d-4a9d-c124-295ad911f230"
      },
      "outputs": [
        {
          "output_type": "execute_result",
          "data": {
            "text/plain": [
              "             user_id      posted  item_id  recommend year_posted  \\\n",
              "0  76561197970982479  05-11-2011     1250       True        2011   \n",
              "1  76561197970982479  15-07-2011    22200       True        2011   \n",
              "2  76561197970982479  21-04-2011    43110       True        2011   \n",
              "3            js41637  24-06-2014   251610       True        2014   \n",
              "4            js41637  08-09-2013   227300       True        2013   \n",
              "\n",
              "   sentiment_analysis  \n",
              "0                   2  \n",
              "1                   2  \n",
              "2                   2  \n",
              "3                   2  \n",
              "4                   2  "
            ],
            "text/html": [
              "\n",
              "  <div id=\"df-a3e2247d-4a55-43a2-9d0d-353be6fc5f8f\" class=\"colab-df-container\">\n",
              "    <div>\n",
              "<style scoped>\n",
              "    .dataframe tbody tr th:only-of-type {\n",
              "        vertical-align: middle;\n",
              "    }\n",
              "\n",
              "    .dataframe tbody tr th {\n",
              "        vertical-align: top;\n",
              "    }\n",
              "\n",
              "    .dataframe thead th {\n",
              "        text-align: right;\n",
              "    }\n",
              "</style>\n",
              "<table border=\"1\" class=\"dataframe\">\n",
              "  <thead>\n",
              "    <tr style=\"text-align: right;\">\n",
              "      <th></th>\n",
              "      <th>user_id</th>\n",
              "      <th>posted</th>\n",
              "      <th>item_id</th>\n",
              "      <th>recommend</th>\n",
              "      <th>year_posted</th>\n",
              "      <th>sentiment_analysis</th>\n",
              "    </tr>\n",
              "  </thead>\n",
              "  <tbody>\n",
              "    <tr>\n",
              "      <th>0</th>\n",
              "      <td>76561197970982479</td>\n",
              "      <td>05-11-2011</td>\n",
              "      <td>1250</td>\n",
              "      <td>True</td>\n",
              "      <td>2011</td>\n",
              "      <td>2</td>\n",
              "    </tr>\n",
              "    <tr>\n",
              "      <th>1</th>\n",
              "      <td>76561197970982479</td>\n",
              "      <td>15-07-2011</td>\n",
              "      <td>22200</td>\n",
              "      <td>True</td>\n",
              "      <td>2011</td>\n",
              "      <td>2</td>\n",
              "    </tr>\n",
              "    <tr>\n",
              "      <th>2</th>\n",
              "      <td>76561197970982479</td>\n",
              "      <td>21-04-2011</td>\n",
              "      <td>43110</td>\n",
              "      <td>True</td>\n",
              "      <td>2011</td>\n",
              "      <td>2</td>\n",
              "    </tr>\n",
              "    <tr>\n",
              "      <th>3</th>\n",
              "      <td>js41637</td>\n",
              "      <td>24-06-2014</td>\n",
              "      <td>251610</td>\n",
              "      <td>True</td>\n",
              "      <td>2014</td>\n",
              "      <td>2</td>\n",
              "    </tr>\n",
              "    <tr>\n",
              "      <th>4</th>\n",
              "      <td>js41637</td>\n",
              "      <td>08-09-2013</td>\n",
              "      <td>227300</td>\n",
              "      <td>True</td>\n",
              "      <td>2013</td>\n",
              "      <td>2</td>\n",
              "    </tr>\n",
              "  </tbody>\n",
              "</table>\n",
              "</div>\n",
              "    <div class=\"colab-df-buttons\">\n",
              "\n",
              "  <div class=\"colab-df-container\">\n",
              "    <button class=\"colab-df-convert\" onclick=\"convertToInteractive('df-a3e2247d-4a55-43a2-9d0d-353be6fc5f8f')\"\n",
              "            title=\"Convert this dataframe to an interactive table.\"\n",
              "            style=\"display:none;\">\n",
              "\n",
              "  <svg xmlns=\"http://www.w3.org/2000/svg\" height=\"24px\" viewBox=\"0 -960 960 960\">\n",
              "    <path d=\"M120-120v-720h720v720H120Zm60-500h600v-160H180v160Zm220 220h160v-160H400v160Zm0 220h160v-160H400v160ZM180-400h160v-160H180v160Zm440 0h160v-160H620v160ZM180-180h160v-160H180v160Zm440 0h160v-160H620v160Z\"/>\n",
              "  </svg>\n",
              "    </button>\n",
              "\n",
              "  <style>\n",
              "    .colab-df-container {\n",
              "      display:flex;\n",
              "      gap: 12px;\n",
              "    }\n",
              "\n",
              "    .colab-df-convert {\n",
              "      background-color: #E8F0FE;\n",
              "      border: none;\n",
              "      border-radius: 50%;\n",
              "      cursor: pointer;\n",
              "      display: none;\n",
              "      fill: #1967D2;\n",
              "      height: 32px;\n",
              "      padding: 0 0 0 0;\n",
              "      width: 32px;\n",
              "    }\n",
              "\n",
              "    .colab-df-convert:hover {\n",
              "      background-color: #E2EBFA;\n",
              "      box-shadow: 0px 1px 2px rgba(60, 64, 67, 0.3), 0px 1px 3px 1px rgba(60, 64, 67, 0.15);\n",
              "      fill: #174EA6;\n",
              "    }\n",
              "\n",
              "    .colab-df-buttons div {\n",
              "      margin-bottom: 4px;\n",
              "    }\n",
              "\n",
              "    [theme=dark] .colab-df-convert {\n",
              "      background-color: #3B4455;\n",
              "      fill: #D2E3FC;\n",
              "    }\n",
              "\n",
              "    [theme=dark] .colab-df-convert:hover {\n",
              "      background-color: #434B5C;\n",
              "      box-shadow: 0px 1px 3px 1px rgba(0, 0, 0, 0.15);\n",
              "      filter: drop-shadow(0px 1px 2px rgba(0, 0, 0, 0.3));\n",
              "      fill: #FFFFFF;\n",
              "    }\n",
              "  </style>\n",
              "\n",
              "    <script>\n",
              "      const buttonEl =\n",
              "        document.querySelector('#df-a3e2247d-4a55-43a2-9d0d-353be6fc5f8f button.colab-df-convert');\n",
              "      buttonEl.style.display =\n",
              "        google.colab.kernel.accessAllowed ? 'block' : 'none';\n",
              "\n",
              "      async function convertToInteractive(key) {\n",
              "        const element = document.querySelector('#df-a3e2247d-4a55-43a2-9d0d-353be6fc5f8f');\n",
              "        const dataTable =\n",
              "          await google.colab.kernel.invokeFunction('convertToInteractive',\n",
              "                                                    [key], {});\n",
              "        if (!dataTable) return;\n",
              "\n",
              "        const docLinkHtml = 'Like what you see? Visit the ' +\n",
              "          '<a target=\"_blank\" href=https://colab.research.google.com/notebooks/data_table.ipynb>data table notebook</a>'\n",
              "          + ' to learn more about interactive tables.';\n",
              "        element.innerHTML = '';\n",
              "        dataTable['output_type'] = 'display_data';\n",
              "        await google.colab.output.renderOutput(dataTable, element);\n",
              "        const docLink = document.createElement('div');\n",
              "        docLink.innerHTML = docLinkHtml;\n",
              "        element.appendChild(docLink);\n",
              "      }\n",
              "    </script>\n",
              "  </div>\n",
              "\n",
              "\n",
              "<div id=\"df-8257538b-d00c-4801-aeba-58572930dff1\">\n",
              "  <button class=\"colab-df-quickchart\" onclick=\"quickchart('df-8257538b-d00c-4801-aeba-58572930dff1')\"\n",
              "            title=\"Suggest charts.\"\n",
              "            style=\"display:none;\">\n",
              "\n",
              "<svg xmlns=\"http://www.w3.org/2000/svg\" height=\"24px\"viewBox=\"0 0 24 24\"\n",
              "     width=\"24px\">\n",
              "    <g>\n",
              "        <path d=\"M19 3H5c-1.1 0-2 .9-2 2v14c0 1.1.9 2 2 2h14c1.1 0 2-.9 2-2V5c0-1.1-.9-2-2-2zM9 17H7v-7h2v7zm4 0h-2V7h2v10zm4 0h-2v-4h2v4z\"/>\n",
              "    </g>\n",
              "</svg>\n",
              "  </button>\n",
              "\n",
              "<style>\n",
              "  .colab-df-quickchart {\n",
              "      --bg-color: #E8F0FE;\n",
              "      --fill-color: #1967D2;\n",
              "      --hover-bg-color: #E2EBFA;\n",
              "      --hover-fill-color: #174EA6;\n",
              "      --disabled-fill-color: #AAA;\n",
              "      --disabled-bg-color: #DDD;\n",
              "  }\n",
              "\n",
              "  [theme=dark] .colab-df-quickchart {\n",
              "      --bg-color: #3B4455;\n",
              "      --fill-color: #D2E3FC;\n",
              "      --hover-bg-color: #434B5C;\n",
              "      --hover-fill-color: #FFFFFF;\n",
              "      --disabled-bg-color: #3B4455;\n",
              "      --disabled-fill-color: #666;\n",
              "  }\n",
              "\n",
              "  .colab-df-quickchart {\n",
              "    background-color: var(--bg-color);\n",
              "    border: none;\n",
              "    border-radius: 50%;\n",
              "    cursor: pointer;\n",
              "    display: none;\n",
              "    fill: var(--fill-color);\n",
              "    height: 32px;\n",
              "    padding: 0;\n",
              "    width: 32px;\n",
              "  }\n",
              "\n",
              "  .colab-df-quickchart:hover {\n",
              "    background-color: var(--hover-bg-color);\n",
              "    box-shadow: 0 1px 2px rgba(60, 64, 67, 0.3), 0 1px 3px 1px rgba(60, 64, 67, 0.15);\n",
              "    fill: var(--button-hover-fill-color);\n",
              "  }\n",
              "\n",
              "  .colab-df-quickchart-complete:disabled,\n",
              "  .colab-df-quickchart-complete:disabled:hover {\n",
              "    background-color: var(--disabled-bg-color);\n",
              "    fill: var(--disabled-fill-color);\n",
              "    box-shadow: none;\n",
              "  }\n",
              "\n",
              "  .colab-df-spinner {\n",
              "    border: 2px solid var(--fill-color);\n",
              "    border-color: transparent;\n",
              "    border-bottom-color: var(--fill-color);\n",
              "    animation:\n",
              "      spin 1s steps(1) infinite;\n",
              "  }\n",
              "\n",
              "  @keyframes spin {\n",
              "    0% {\n",
              "      border-color: transparent;\n",
              "      border-bottom-color: var(--fill-color);\n",
              "      border-left-color: var(--fill-color);\n",
              "    }\n",
              "    20% {\n",
              "      border-color: transparent;\n",
              "      border-left-color: var(--fill-color);\n",
              "      border-top-color: var(--fill-color);\n",
              "    }\n",
              "    30% {\n",
              "      border-color: transparent;\n",
              "      border-left-color: var(--fill-color);\n",
              "      border-top-color: var(--fill-color);\n",
              "      border-right-color: var(--fill-color);\n",
              "    }\n",
              "    40% {\n",
              "      border-color: transparent;\n",
              "      border-right-color: var(--fill-color);\n",
              "      border-top-color: var(--fill-color);\n",
              "    }\n",
              "    60% {\n",
              "      border-color: transparent;\n",
              "      border-right-color: var(--fill-color);\n",
              "    }\n",
              "    80% {\n",
              "      border-color: transparent;\n",
              "      border-right-color: var(--fill-color);\n",
              "      border-bottom-color: var(--fill-color);\n",
              "    }\n",
              "    90% {\n",
              "      border-color: transparent;\n",
              "      border-bottom-color: var(--fill-color);\n",
              "    }\n",
              "  }\n",
              "</style>\n",
              "\n",
              "  <script>\n",
              "    async function quickchart(key) {\n",
              "      const quickchartButtonEl =\n",
              "        document.querySelector('#' + key + ' button');\n",
              "      quickchartButtonEl.disabled = true;  // To prevent multiple clicks.\n",
              "      quickchartButtonEl.classList.add('colab-df-spinner');\n",
              "      try {\n",
              "        const charts = await google.colab.kernel.invokeFunction(\n",
              "            'suggestCharts', [key], {});\n",
              "      } catch (error) {\n",
              "        console.error('Error during call to suggestCharts:', error);\n",
              "      }\n",
              "      quickchartButtonEl.classList.remove('colab-df-spinner');\n",
              "      quickchartButtonEl.classList.add('colab-df-quickchart-complete');\n",
              "    }\n",
              "    (() => {\n",
              "      let quickchartButtonEl =\n",
              "        document.querySelector('#df-8257538b-d00c-4801-aeba-58572930dff1 button');\n",
              "      quickchartButtonEl.style.display =\n",
              "        google.colab.kernel.accessAllowed ? 'block' : 'none';\n",
              "    })();\n",
              "  </script>\n",
              "</div>\n",
              "    </div>\n",
              "  </div>\n"
            ]
          },
          "metadata": {},
          "execution_count": 176
        }
      ],
      "source": [
        "df_reviews.head()"
      ]
    },
    {
      "cell_type": "code",
      "execution_count": 177,
      "metadata": {
        "colab": {
          "base_uri": "https://localhost:8080/"
        },
        "id": "eZ_8-4WYzmxk",
        "outputId": "ceab87ee-f678-466f-bc55-bc1b84313f75"
      },
      "outputs": [
        {
          "output_type": "stream",
          "name": "stdout",
          "text": [
            "<class 'pandas.core.frame.DataFrame'>\n",
            "Int64Index: 3246337 entries, 0 to 3285245\n",
            "Data columns (total 5 columns):\n",
            " #   Column            Dtype \n",
            "---  ------            ----- \n",
            " 0   user_id           object\n",
            " 1   items_count       int64 \n",
            " 2   item_id           Int64 \n",
            " 3   item_name         object\n",
            " 4   playtime_forever  int64 \n",
            "dtypes: Int64(1), int64(2), object(2)\n",
            "memory usage: 151.7+ MB\n"
          ]
        }
      ],
      "source": [
        "df_items.info()"
      ]
    },
    {
      "cell_type": "code",
      "execution_count": 178,
      "metadata": {
        "colab": {
          "base_uri": "https://localhost:8080/",
          "height": 206
        },
        "id": "chE7kDXNz1ER",
        "outputId": "cc31b61d-8084-4d90-e398-164f29b6df25"
      },
      "outputs": [
        {
          "output_type": "execute_result",
          "data": {
            "text/plain": [
              "             user_id  items_count  item_id               item_name  \\\n",
              "0  76561197970982479          277        1          Counter-Strike   \n",
              "1  76561197970982479          277        3           Day of Defeat   \n",
              "2  76561197970982479          277        3   Day of Defeat: Source   \n",
              "3  76561197970982479          277        2  Counter-Strike: Source   \n",
              "4  76561197970982479          277        3             Psychonauts   \n",
              "\n",
              "   playtime_forever  \n",
              "0                 6  \n",
              "1                 7  \n",
              "2              4733  \n",
              "3              1853  \n",
              "4               333  "
            ],
            "text/html": [
              "\n",
              "  <div id=\"df-3220609e-8f86-4c20-b1bd-9e585dda08e7\" class=\"colab-df-container\">\n",
              "    <div>\n",
              "<style scoped>\n",
              "    .dataframe tbody tr th:only-of-type {\n",
              "        vertical-align: middle;\n",
              "    }\n",
              "\n",
              "    .dataframe tbody tr th {\n",
              "        vertical-align: top;\n",
              "    }\n",
              "\n",
              "    .dataframe thead th {\n",
              "        text-align: right;\n",
              "    }\n",
              "</style>\n",
              "<table border=\"1\" class=\"dataframe\">\n",
              "  <thead>\n",
              "    <tr style=\"text-align: right;\">\n",
              "      <th></th>\n",
              "      <th>user_id</th>\n",
              "      <th>items_count</th>\n",
              "      <th>item_id</th>\n",
              "      <th>item_name</th>\n",
              "      <th>playtime_forever</th>\n",
              "    </tr>\n",
              "  </thead>\n",
              "  <tbody>\n",
              "    <tr>\n",
              "      <th>0</th>\n",
              "      <td>76561197970982479</td>\n",
              "      <td>277</td>\n",
              "      <td>1</td>\n",
              "      <td>Counter-Strike</td>\n",
              "      <td>6</td>\n",
              "    </tr>\n",
              "    <tr>\n",
              "      <th>1</th>\n",
              "      <td>76561197970982479</td>\n",
              "      <td>277</td>\n",
              "      <td>3</td>\n",
              "      <td>Day of Defeat</td>\n",
              "      <td>7</td>\n",
              "    </tr>\n",
              "    <tr>\n",
              "      <th>2</th>\n",
              "      <td>76561197970982479</td>\n",
              "      <td>277</td>\n",
              "      <td>3</td>\n",
              "      <td>Day of Defeat: Source</td>\n",
              "      <td>4733</td>\n",
              "    </tr>\n",
              "    <tr>\n",
              "      <th>3</th>\n",
              "      <td>76561197970982479</td>\n",
              "      <td>277</td>\n",
              "      <td>2</td>\n",
              "      <td>Counter-Strike: Source</td>\n",
              "      <td>1853</td>\n",
              "    </tr>\n",
              "    <tr>\n",
              "      <th>4</th>\n",
              "      <td>76561197970982479</td>\n",
              "      <td>277</td>\n",
              "      <td>3</td>\n",
              "      <td>Psychonauts</td>\n",
              "      <td>333</td>\n",
              "    </tr>\n",
              "  </tbody>\n",
              "</table>\n",
              "</div>\n",
              "    <div class=\"colab-df-buttons\">\n",
              "\n",
              "  <div class=\"colab-df-container\">\n",
              "    <button class=\"colab-df-convert\" onclick=\"convertToInteractive('df-3220609e-8f86-4c20-b1bd-9e585dda08e7')\"\n",
              "            title=\"Convert this dataframe to an interactive table.\"\n",
              "            style=\"display:none;\">\n",
              "\n",
              "  <svg xmlns=\"http://www.w3.org/2000/svg\" height=\"24px\" viewBox=\"0 -960 960 960\">\n",
              "    <path d=\"M120-120v-720h720v720H120Zm60-500h600v-160H180v160Zm220 220h160v-160H400v160Zm0 220h160v-160H400v160ZM180-400h160v-160H180v160Zm440 0h160v-160H620v160ZM180-180h160v-160H180v160Zm440 0h160v-160H620v160Z\"/>\n",
              "  </svg>\n",
              "    </button>\n",
              "\n",
              "  <style>\n",
              "    .colab-df-container {\n",
              "      display:flex;\n",
              "      gap: 12px;\n",
              "    }\n",
              "\n",
              "    .colab-df-convert {\n",
              "      background-color: #E8F0FE;\n",
              "      border: none;\n",
              "      border-radius: 50%;\n",
              "      cursor: pointer;\n",
              "      display: none;\n",
              "      fill: #1967D2;\n",
              "      height: 32px;\n",
              "      padding: 0 0 0 0;\n",
              "      width: 32px;\n",
              "    }\n",
              "\n",
              "    .colab-df-convert:hover {\n",
              "      background-color: #E2EBFA;\n",
              "      box-shadow: 0px 1px 2px rgba(60, 64, 67, 0.3), 0px 1px 3px 1px rgba(60, 64, 67, 0.15);\n",
              "      fill: #174EA6;\n",
              "    }\n",
              "\n",
              "    .colab-df-buttons div {\n",
              "      margin-bottom: 4px;\n",
              "    }\n",
              "\n",
              "    [theme=dark] .colab-df-convert {\n",
              "      background-color: #3B4455;\n",
              "      fill: #D2E3FC;\n",
              "    }\n",
              "\n",
              "    [theme=dark] .colab-df-convert:hover {\n",
              "      background-color: #434B5C;\n",
              "      box-shadow: 0px 1px 3px 1px rgba(0, 0, 0, 0.15);\n",
              "      filter: drop-shadow(0px 1px 2px rgba(0, 0, 0, 0.3));\n",
              "      fill: #FFFFFF;\n",
              "    }\n",
              "  </style>\n",
              "\n",
              "    <script>\n",
              "      const buttonEl =\n",
              "        document.querySelector('#df-3220609e-8f86-4c20-b1bd-9e585dda08e7 button.colab-df-convert');\n",
              "      buttonEl.style.display =\n",
              "        google.colab.kernel.accessAllowed ? 'block' : 'none';\n",
              "\n",
              "      async function convertToInteractive(key) {\n",
              "        const element = document.querySelector('#df-3220609e-8f86-4c20-b1bd-9e585dda08e7');\n",
              "        const dataTable =\n",
              "          await google.colab.kernel.invokeFunction('convertToInteractive',\n",
              "                                                    [key], {});\n",
              "        if (!dataTable) return;\n",
              "\n",
              "        const docLinkHtml = 'Like what you see? Visit the ' +\n",
              "          '<a target=\"_blank\" href=https://colab.research.google.com/notebooks/data_table.ipynb>data table notebook</a>'\n",
              "          + ' to learn more about interactive tables.';\n",
              "        element.innerHTML = '';\n",
              "        dataTable['output_type'] = 'display_data';\n",
              "        await google.colab.output.renderOutput(dataTable, element);\n",
              "        const docLink = document.createElement('div');\n",
              "        docLink.innerHTML = docLinkHtml;\n",
              "        element.appendChild(docLink);\n",
              "      }\n",
              "    </script>\n",
              "  </div>\n",
              "\n",
              "\n",
              "<div id=\"df-d8e968a1-9124-44f4-add3-756bb27661a7\">\n",
              "  <button class=\"colab-df-quickchart\" onclick=\"quickchart('df-d8e968a1-9124-44f4-add3-756bb27661a7')\"\n",
              "            title=\"Suggest charts.\"\n",
              "            style=\"display:none;\">\n",
              "\n",
              "<svg xmlns=\"http://www.w3.org/2000/svg\" height=\"24px\"viewBox=\"0 0 24 24\"\n",
              "     width=\"24px\">\n",
              "    <g>\n",
              "        <path d=\"M19 3H5c-1.1 0-2 .9-2 2v14c0 1.1.9 2 2 2h14c1.1 0 2-.9 2-2V5c0-1.1-.9-2-2-2zM9 17H7v-7h2v7zm4 0h-2V7h2v10zm4 0h-2v-4h2v4z\"/>\n",
              "    </g>\n",
              "</svg>\n",
              "  </button>\n",
              "\n",
              "<style>\n",
              "  .colab-df-quickchart {\n",
              "      --bg-color: #E8F0FE;\n",
              "      --fill-color: #1967D2;\n",
              "      --hover-bg-color: #E2EBFA;\n",
              "      --hover-fill-color: #174EA6;\n",
              "      --disabled-fill-color: #AAA;\n",
              "      --disabled-bg-color: #DDD;\n",
              "  }\n",
              "\n",
              "  [theme=dark] .colab-df-quickchart {\n",
              "      --bg-color: #3B4455;\n",
              "      --fill-color: #D2E3FC;\n",
              "      --hover-bg-color: #434B5C;\n",
              "      --hover-fill-color: #FFFFFF;\n",
              "      --disabled-bg-color: #3B4455;\n",
              "      --disabled-fill-color: #666;\n",
              "  }\n",
              "\n",
              "  .colab-df-quickchart {\n",
              "    background-color: var(--bg-color);\n",
              "    border: none;\n",
              "    border-radius: 50%;\n",
              "    cursor: pointer;\n",
              "    display: none;\n",
              "    fill: var(--fill-color);\n",
              "    height: 32px;\n",
              "    padding: 0;\n",
              "    width: 32px;\n",
              "  }\n",
              "\n",
              "  .colab-df-quickchart:hover {\n",
              "    background-color: var(--hover-bg-color);\n",
              "    box-shadow: 0 1px 2px rgba(60, 64, 67, 0.3), 0 1px 3px 1px rgba(60, 64, 67, 0.15);\n",
              "    fill: var(--button-hover-fill-color);\n",
              "  }\n",
              "\n",
              "  .colab-df-quickchart-complete:disabled,\n",
              "  .colab-df-quickchart-complete:disabled:hover {\n",
              "    background-color: var(--disabled-bg-color);\n",
              "    fill: var(--disabled-fill-color);\n",
              "    box-shadow: none;\n",
              "  }\n",
              "\n",
              "  .colab-df-spinner {\n",
              "    border: 2px solid var(--fill-color);\n",
              "    border-color: transparent;\n",
              "    border-bottom-color: var(--fill-color);\n",
              "    animation:\n",
              "      spin 1s steps(1) infinite;\n",
              "  }\n",
              "\n",
              "  @keyframes spin {\n",
              "    0% {\n",
              "      border-color: transparent;\n",
              "      border-bottom-color: var(--fill-color);\n",
              "      border-left-color: var(--fill-color);\n",
              "    }\n",
              "    20% {\n",
              "      border-color: transparent;\n",
              "      border-left-color: var(--fill-color);\n",
              "      border-top-color: var(--fill-color);\n",
              "    }\n",
              "    30% {\n",
              "      border-color: transparent;\n",
              "      border-left-color: var(--fill-color);\n",
              "      border-top-color: var(--fill-color);\n",
              "      border-right-color: var(--fill-color);\n",
              "    }\n",
              "    40% {\n",
              "      border-color: transparent;\n",
              "      border-right-color: var(--fill-color);\n",
              "      border-top-color: var(--fill-color);\n",
              "    }\n",
              "    60% {\n",
              "      border-color: transparent;\n",
              "      border-right-color: var(--fill-color);\n",
              "    }\n",
              "    80% {\n",
              "      border-color: transparent;\n",
              "      border-right-color: var(--fill-color);\n",
              "      border-bottom-color: var(--fill-color);\n",
              "    }\n",
              "    90% {\n",
              "      border-color: transparent;\n",
              "      border-bottom-color: var(--fill-color);\n",
              "    }\n",
              "  }\n",
              "</style>\n",
              "\n",
              "  <script>\n",
              "    async function quickchart(key) {\n",
              "      const quickchartButtonEl =\n",
              "        document.querySelector('#' + key + ' button');\n",
              "      quickchartButtonEl.disabled = true;  // To prevent multiple clicks.\n",
              "      quickchartButtonEl.classList.add('colab-df-spinner');\n",
              "      try {\n",
              "        const charts = await google.colab.kernel.invokeFunction(\n",
              "            'suggestCharts', [key], {});\n",
              "      } catch (error) {\n",
              "        console.error('Error during call to suggestCharts:', error);\n",
              "      }\n",
              "      quickchartButtonEl.classList.remove('colab-df-spinner');\n",
              "      quickchartButtonEl.classList.add('colab-df-quickchart-complete');\n",
              "    }\n",
              "    (() => {\n",
              "      let quickchartButtonEl =\n",
              "        document.querySelector('#df-d8e968a1-9124-44f4-add3-756bb27661a7 button');\n",
              "      quickchartButtonEl.style.display =\n",
              "        google.colab.kernel.accessAllowed ? 'block' : 'none';\n",
              "    })();\n",
              "  </script>\n",
              "</div>\n",
              "    </div>\n",
              "  </div>\n"
            ]
          },
          "metadata": {},
          "execution_count": 178
        }
      ],
      "source": [
        "df_items.head()"
      ]
    },
    {
      "cell_type": "code",
      "execution_count": 179,
      "metadata": {
        "colab": {
          "base_uri": "https://localhost:8080/"
        },
        "id": "BCSFZzcUz4Y-",
        "outputId": "96bf7c2e-26ba-4fec-bce8-ddf7b36dd35f"
      },
      "outputs": [
        {
          "output_type": "stream",
          "name": "stdout",
          "text": [
            "<class 'pandas.core.frame.DataFrame'>\n",
            "Int64Index: 28831 entries, 88310 to 120443\n",
            "Data columns (total 7 columns):\n",
            " #   Column        Non-Null Count  Dtype  \n",
            "---  ------        --------------  -----  \n",
            " 0   genres        28831 non-null  object \n",
            " 1   item_name     28831 non-null  object \n",
            " 2   release_date  28831 non-null  object \n",
            " 3   price         28831 non-null  float64\n",
            " 4   item_id       28831 non-null  Int64  \n",
            " 5   developer     28831 non-null  object \n",
            " 6   year          28831 non-null  object \n",
            "dtypes: Int64(1), float64(1), object(5)\n",
            "memory usage: 1.8+ MB\n"
          ]
        }
      ],
      "source": [
        "df_steam.info()"
      ]
    },
    {
      "cell_type": "code",
      "execution_count": 180,
      "metadata": {
        "colab": {
          "base_uri": "https://localhost:8080/",
          "height": 206
        },
        "id": "laMBi8Q8z85_",
        "outputId": "8c2333b4-23fb-4196-aec1-10eb47759e48"
      },
      "outputs": [
        {
          "output_type": "execute_result",
          "data": {
            "text/plain": [
              "                                                  genres  \\\n",
              "88310      [Action, Casual, Indie, Simulation, Strategy]   \n",
              "88311               [Free to Play, Indie, RPG, Strategy]   \n",
              "88312  [Casual, Free to Play, Indie, Simulation, Sports]   \n",
              "88313                        [Action, Adventure, Casual]   \n",
              "88315                    [Action, Adventure, Simulation]   \n",
              "\n",
              "                     item_name release_date  price  item_id  \\\n",
              "88310      Lost Summoner Kitty   2018-01-04   4.99   761140   \n",
              "88311                Ironbound   2018-01-04   4.99   643980   \n",
              "88312  Real Pool 3D - Poolians   2017-07-24   4.99   670290   \n",
              "88313                  弹炸人2222   2017-12-07   0.99   767400   \n",
              "88315    Battle Royale Trainer   2018-01-04   3.99   772540   \n",
              "\n",
              "                 developer  year  \n",
              "88310            Kotoshiro  2018  \n",
              "88311     Secret Level SRL  2018  \n",
              "88312         Poolians.com  2017  \n",
              "88313                 彼岸领域  2017  \n",
              "88315  Trickjump Games Ltd  2018  "
            ],
            "text/html": [
              "\n",
              "  <div id=\"df-ed8f4ed5-a06f-46dc-8083-a30ee92edee9\" class=\"colab-df-container\">\n",
              "    <div>\n",
              "<style scoped>\n",
              "    .dataframe tbody tr th:only-of-type {\n",
              "        vertical-align: middle;\n",
              "    }\n",
              "\n",
              "    .dataframe tbody tr th {\n",
              "        vertical-align: top;\n",
              "    }\n",
              "\n",
              "    .dataframe thead th {\n",
              "        text-align: right;\n",
              "    }\n",
              "</style>\n",
              "<table border=\"1\" class=\"dataframe\">\n",
              "  <thead>\n",
              "    <tr style=\"text-align: right;\">\n",
              "      <th></th>\n",
              "      <th>genres</th>\n",
              "      <th>item_name</th>\n",
              "      <th>release_date</th>\n",
              "      <th>price</th>\n",
              "      <th>item_id</th>\n",
              "      <th>developer</th>\n",
              "      <th>year</th>\n",
              "    </tr>\n",
              "  </thead>\n",
              "  <tbody>\n",
              "    <tr>\n",
              "      <th>88310</th>\n",
              "      <td>[Action, Casual, Indie, Simulation, Strategy]</td>\n",
              "      <td>Lost Summoner Kitty</td>\n",
              "      <td>2018-01-04</td>\n",
              "      <td>4.99</td>\n",
              "      <td>761140</td>\n",
              "      <td>Kotoshiro</td>\n",
              "      <td>2018</td>\n",
              "    </tr>\n",
              "    <tr>\n",
              "      <th>88311</th>\n",
              "      <td>[Free to Play, Indie, RPG, Strategy]</td>\n",
              "      <td>Ironbound</td>\n",
              "      <td>2018-01-04</td>\n",
              "      <td>4.99</td>\n",
              "      <td>643980</td>\n",
              "      <td>Secret Level SRL</td>\n",
              "      <td>2018</td>\n",
              "    </tr>\n",
              "    <tr>\n",
              "      <th>88312</th>\n",
              "      <td>[Casual, Free to Play, Indie, Simulation, Sports]</td>\n",
              "      <td>Real Pool 3D - Poolians</td>\n",
              "      <td>2017-07-24</td>\n",
              "      <td>4.99</td>\n",
              "      <td>670290</td>\n",
              "      <td>Poolians.com</td>\n",
              "      <td>2017</td>\n",
              "    </tr>\n",
              "    <tr>\n",
              "      <th>88313</th>\n",
              "      <td>[Action, Adventure, Casual]</td>\n",
              "      <td>弹炸人2222</td>\n",
              "      <td>2017-12-07</td>\n",
              "      <td>0.99</td>\n",
              "      <td>767400</td>\n",
              "      <td>彼岸领域</td>\n",
              "      <td>2017</td>\n",
              "    </tr>\n",
              "    <tr>\n",
              "      <th>88315</th>\n",
              "      <td>[Action, Adventure, Simulation]</td>\n",
              "      <td>Battle Royale Trainer</td>\n",
              "      <td>2018-01-04</td>\n",
              "      <td>3.99</td>\n",
              "      <td>772540</td>\n",
              "      <td>Trickjump Games Ltd</td>\n",
              "      <td>2018</td>\n",
              "    </tr>\n",
              "  </tbody>\n",
              "</table>\n",
              "</div>\n",
              "    <div class=\"colab-df-buttons\">\n",
              "\n",
              "  <div class=\"colab-df-container\">\n",
              "    <button class=\"colab-df-convert\" onclick=\"convertToInteractive('df-ed8f4ed5-a06f-46dc-8083-a30ee92edee9')\"\n",
              "            title=\"Convert this dataframe to an interactive table.\"\n",
              "            style=\"display:none;\">\n",
              "\n",
              "  <svg xmlns=\"http://www.w3.org/2000/svg\" height=\"24px\" viewBox=\"0 -960 960 960\">\n",
              "    <path d=\"M120-120v-720h720v720H120Zm60-500h600v-160H180v160Zm220 220h160v-160H400v160Zm0 220h160v-160H400v160ZM180-400h160v-160H180v160Zm440 0h160v-160H620v160ZM180-180h160v-160H180v160Zm440 0h160v-160H620v160Z\"/>\n",
              "  </svg>\n",
              "    </button>\n",
              "\n",
              "  <style>\n",
              "    .colab-df-container {\n",
              "      display:flex;\n",
              "      gap: 12px;\n",
              "    }\n",
              "\n",
              "    .colab-df-convert {\n",
              "      background-color: #E8F0FE;\n",
              "      border: none;\n",
              "      border-radius: 50%;\n",
              "      cursor: pointer;\n",
              "      display: none;\n",
              "      fill: #1967D2;\n",
              "      height: 32px;\n",
              "      padding: 0 0 0 0;\n",
              "      width: 32px;\n",
              "    }\n",
              "\n",
              "    .colab-df-convert:hover {\n",
              "      background-color: #E2EBFA;\n",
              "      box-shadow: 0px 1px 2px rgba(60, 64, 67, 0.3), 0px 1px 3px 1px rgba(60, 64, 67, 0.15);\n",
              "      fill: #174EA6;\n",
              "    }\n",
              "\n",
              "    .colab-df-buttons div {\n",
              "      margin-bottom: 4px;\n",
              "    }\n",
              "\n",
              "    [theme=dark] .colab-df-convert {\n",
              "      background-color: #3B4455;\n",
              "      fill: #D2E3FC;\n",
              "    }\n",
              "\n",
              "    [theme=dark] .colab-df-convert:hover {\n",
              "      background-color: #434B5C;\n",
              "      box-shadow: 0px 1px 3px 1px rgba(0, 0, 0, 0.15);\n",
              "      filter: drop-shadow(0px 1px 2px rgba(0, 0, 0, 0.3));\n",
              "      fill: #FFFFFF;\n",
              "    }\n",
              "  </style>\n",
              "\n",
              "    <script>\n",
              "      const buttonEl =\n",
              "        document.querySelector('#df-ed8f4ed5-a06f-46dc-8083-a30ee92edee9 button.colab-df-convert');\n",
              "      buttonEl.style.display =\n",
              "        google.colab.kernel.accessAllowed ? 'block' : 'none';\n",
              "\n",
              "      async function convertToInteractive(key) {\n",
              "        const element = document.querySelector('#df-ed8f4ed5-a06f-46dc-8083-a30ee92edee9');\n",
              "        const dataTable =\n",
              "          await google.colab.kernel.invokeFunction('convertToInteractive',\n",
              "                                                    [key], {});\n",
              "        if (!dataTable) return;\n",
              "\n",
              "        const docLinkHtml = 'Like what you see? Visit the ' +\n",
              "          '<a target=\"_blank\" href=https://colab.research.google.com/notebooks/data_table.ipynb>data table notebook</a>'\n",
              "          + ' to learn more about interactive tables.';\n",
              "        element.innerHTML = '';\n",
              "        dataTable['output_type'] = 'display_data';\n",
              "        await google.colab.output.renderOutput(dataTable, element);\n",
              "        const docLink = document.createElement('div');\n",
              "        docLink.innerHTML = docLinkHtml;\n",
              "        element.appendChild(docLink);\n",
              "      }\n",
              "    </script>\n",
              "  </div>\n",
              "\n",
              "\n",
              "<div id=\"df-77383776-7062-473c-b827-3c206bd0ac35\">\n",
              "  <button class=\"colab-df-quickchart\" onclick=\"quickchart('df-77383776-7062-473c-b827-3c206bd0ac35')\"\n",
              "            title=\"Suggest charts.\"\n",
              "            style=\"display:none;\">\n",
              "\n",
              "<svg xmlns=\"http://www.w3.org/2000/svg\" height=\"24px\"viewBox=\"0 0 24 24\"\n",
              "     width=\"24px\">\n",
              "    <g>\n",
              "        <path d=\"M19 3H5c-1.1 0-2 .9-2 2v14c0 1.1.9 2 2 2h14c1.1 0 2-.9 2-2V5c0-1.1-.9-2-2-2zM9 17H7v-7h2v7zm4 0h-2V7h2v10zm4 0h-2v-4h2v4z\"/>\n",
              "    </g>\n",
              "</svg>\n",
              "  </button>\n",
              "\n",
              "<style>\n",
              "  .colab-df-quickchart {\n",
              "      --bg-color: #E8F0FE;\n",
              "      --fill-color: #1967D2;\n",
              "      --hover-bg-color: #E2EBFA;\n",
              "      --hover-fill-color: #174EA6;\n",
              "      --disabled-fill-color: #AAA;\n",
              "      --disabled-bg-color: #DDD;\n",
              "  }\n",
              "\n",
              "  [theme=dark] .colab-df-quickchart {\n",
              "      --bg-color: #3B4455;\n",
              "      --fill-color: #D2E3FC;\n",
              "      --hover-bg-color: #434B5C;\n",
              "      --hover-fill-color: #FFFFFF;\n",
              "      --disabled-bg-color: #3B4455;\n",
              "      --disabled-fill-color: #666;\n",
              "  }\n",
              "\n",
              "  .colab-df-quickchart {\n",
              "    background-color: var(--bg-color);\n",
              "    border: none;\n",
              "    border-radius: 50%;\n",
              "    cursor: pointer;\n",
              "    display: none;\n",
              "    fill: var(--fill-color);\n",
              "    height: 32px;\n",
              "    padding: 0;\n",
              "    width: 32px;\n",
              "  }\n",
              "\n",
              "  .colab-df-quickchart:hover {\n",
              "    background-color: var(--hover-bg-color);\n",
              "    box-shadow: 0 1px 2px rgba(60, 64, 67, 0.3), 0 1px 3px 1px rgba(60, 64, 67, 0.15);\n",
              "    fill: var(--button-hover-fill-color);\n",
              "  }\n",
              "\n",
              "  .colab-df-quickchart-complete:disabled,\n",
              "  .colab-df-quickchart-complete:disabled:hover {\n",
              "    background-color: var(--disabled-bg-color);\n",
              "    fill: var(--disabled-fill-color);\n",
              "    box-shadow: none;\n",
              "  }\n",
              "\n",
              "  .colab-df-spinner {\n",
              "    border: 2px solid var(--fill-color);\n",
              "    border-color: transparent;\n",
              "    border-bottom-color: var(--fill-color);\n",
              "    animation:\n",
              "      spin 1s steps(1) infinite;\n",
              "  }\n",
              "\n",
              "  @keyframes spin {\n",
              "    0% {\n",
              "      border-color: transparent;\n",
              "      border-bottom-color: var(--fill-color);\n",
              "      border-left-color: var(--fill-color);\n",
              "    }\n",
              "    20% {\n",
              "      border-color: transparent;\n",
              "      border-left-color: var(--fill-color);\n",
              "      border-top-color: var(--fill-color);\n",
              "    }\n",
              "    30% {\n",
              "      border-color: transparent;\n",
              "      border-left-color: var(--fill-color);\n",
              "      border-top-color: var(--fill-color);\n",
              "      border-right-color: var(--fill-color);\n",
              "    }\n",
              "    40% {\n",
              "      border-color: transparent;\n",
              "      border-right-color: var(--fill-color);\n",
              "      border-top-color: var(--fill-color);\n",
              "    }\n",
              "    60% {\n",
              "      border-color: transparent;\n",
              "      border-right-color: var(--fill-color);\n",
              "    }\n",
              "    80% {\n",
              "      border-color: transparent;\n",
              "      border-right-color: var(--fill-color);\n",
              "      border-bottom-color: var(--fill-color);\n",
              "    }\n",
              "    90% {\n",
              "      border-color: transparent;\n",
              "      border-bottom-color: var(--fill-color);\n",
              "    }\n",
              "  }\n",
              "</style>\n",
              "\n",
              "  <script>\n",
              "    async function quickchart(key) {\n",
              "      const quickchartButtonEl =\n",
              "        document.querySelector('#' + key + ' button');\n",
              "      quickchartButtonEl.disabled = true;  // To prevent multiple clicks.\n",
              "      quickchartButtonEl.classList.add('colab-df-spinner');\n",
              "      try {\n",
              "        const charts = await google.colab.kernel.invokeFunction(\n",
              "            'suggestCharts', [key], {});\n",
              "      } catch (error) {\n",
              "        console.error('Error during call to suggestCharts:', error);\n",
              "      }\n",
              "      quickchartButtonEl.classList.remove('colab-df-spinner');\n",
              "      quickchartButtonEl.classList.add('colab-df-quickchart-complete');\n",
              "    }\n",
              "    (() => {\n",
              "      let quickchartButtonEl =\n",
              "        document.querySelector('#df-77383776-7062-473c-b827-3c206bd0ac35 button');\n",
              "      quickchartButtonEl.style.display =\n",
              "        google.colab.kernel.accessAllowed ? 'block' : 'none';\n",
              "    })();\n",
              "  </script>\n",
              "</div>\n",
              "    </div>\n",
              "  </div>\n"
            ]
          },
          "metadata": {},
          "execution_count": 180
        }
      ],
      "source": [
        "df_steam.head()"
      ]
    },
    {
      "cell_type": "code",
      "execution_count": 181,
      "metadata": {
        "colab": {
          "base_uri": "https://localhost:8080/"
        },
        "id": "qX3F5BsEz_g_",
        "outputId": "ef1f39b1-2176-4e86-fd9e-b6b4e0194650"
      },
      "outputs": [
        {
          "output_type": "stream",
          "name": "stdout",
          "text": [
            "<class 'pandas.core.frame.DataFrame'>\n",
            "Int64Index: 71496 entries, 88310 to 120443\n",
            "Data columns (total 7 columns):\n",
            " #   Column        Non-Null Count  Dtype  \n",
            "---  ------        --------------  -----  \n",
            " 0   genres        71496 non-null  object \n",
            " 1   item_name     71496 non-null  object \n",
            " 2   release_date  71496 non-null  object \n",
            " 3   price         71496 non-null  float64\n",
            " 4   item_id       71496 non-null  Int64  \n",
            " 5   developer     71496 non-null  object \n",
            " 6   year          71496 non-null  object \n",
            "dtypes: Int64(1), float64(1), object(5)\n",
            "memory usage: 4.4+ MB\n"
          ]
        }
      ],
      "source": [
        "df_steam_exploded.info()"
      ]
    },
    {
      "cell_type": "code",
      "execution_count": 182,
      "metadata": {
        "colab": {
          "base_uri": "https://localhost:8080/",
          "height": 331
        },
        "id": "-66JO-Ve1Svb",
        "outputId": "756375c1-0ae8-422a-ffad-17f3e29b37e1"
      },
      "outputs": [
        {
          "output_type": "execute_result",
          "data": {
            "text/plain": [
              "             genres            item_name release_date  price  item_id  \\\n",
              "88310        Action  Lost Summoner Kitty   2018-01-04   4.99   761140   \n",
              "88310        Casual  Lost Summoner Kitty   2018-01-04   4.99   761140   \n",
              "88310         Indie  Lost Summoner Kitty   2018-01-04   4.99   761140   \n",
              "88310    Simulation  Lost Summoner Kitty   2018-01-04   4.99   761140   \n",
              "88310      Strategy  Lost Summoner Kitty   2018-01-04   4.99   761140   \n",
              "88311  Free to Play            Ironbound   2018-01-04   4.99   643980   \n",
              "88311         Indie            Ironbound   2018-01-04   4.99   643980   \n",
              "88311           RPG            Ironbound   2018-01-04   4.99   643980   \n",
              "88311      Strategy            Ironbound   2018-01-04   4.99   643980   \n",
              "\n",
              "              developer  year  \n",
              "88310         Kotoshiro  2018  \n",
              "88310         Kotoshiro  2018  \n",
              "88310         Kotoshiro  2018  \n",
              "88310         Kotoshiro  2018  \n",
              "88310         Kotoshiro  2018  \n",
              "88311  Secret Level SRL  2018  \n",
              "88311  Secret Level SRL  2018  \n",
              "88311  Secret Level SRL  2018  \n",
              "88311  Secret Level SRL  2018  "
            ],
            "text/html": [
              "\n",
              "  <div id=\"df-c457318d-fc9e-4569-abd0-d4ba433d47e4\" class=\"colab-df-container\">\n",
              "    <div>\n",
              "<style scoped>\n",
              "    .dataframe tbody tr th:only-of-type {\n",
              "        vertical-align: middle;\n",
              "    }\n",
              "\n",
              "    .dataframe tbody tr th {\n",
              "        vertical-align: top;\n",
              "    }\n",
              "\n",
              "    .dataframe thead th {\n",
              "        text-align: right;\n",
              "    }\n",
              "</style>\n",
              "<table border=\"1\" class=\"dataframe\">\n",
              "  <thead>\n",
              "    <tr style=\"text-align: right;\">\n",
              "      <th></th>\n",
              "      <th>genres</th>\n",
              "      <th>item_name</th>\n",
              "      <th>release_date</th>\n",
              "      <th>price</th>\n",
              "      <th>item_id</th>\n",
              "      <th>developer</th>\n",
              "      <th>year</th>\n",
              "    </tr>\n",
              "  </thead>\n",
              "  <tbody>\n",
              "    <tr>\n",
              "      <th>88310</th>\n",
              "      <td>Action</td>\n",
              "      <td>Lost Summoner Kitty</td>\n",
              "      <td>2018-01-04</td>\n",
              "      <td>4.99</td>\n",
              "      <td>761140</td>\n",
              "      <td>Kotoshiro</td>\n",
              "      <td>2018</td>\n",
              "    </tr>\n",
              "    <tr>\n",
              "      <th>88310</th>\n",
              "      <td>Casual</td>\n",
              "      <td>Lost Summoner Kitty</td>\n",
              "      <td>2018-01-04</td>\n",
              "      <td>4.99</td>\n",
              "      <td>761140</td>\n",
              "      <td>Kotoshiro</td>\n",
              "      <td>2018</td>\n",
              "    </tr>\n",
              "    <tr>\n",
              "      <th>88310</th>\n",
              "      <td>Indie</td>\n",
              "      <td>Lost Summoner Kitty</td>\n",
              "      <td>2018-01-04</td>\n",
              "      <td>4.99</td>\n",
              "      <td>761140</td>\n",
              "      <td>Kotoshiro</td>\n",
              "      <td>2018</td>\n",
              "    </tr>\n",
              "    <tr>\n",
              "      <th>88310</th>\n",
              "      <td>Simulation</td>\n",
              "      <td>Lost Summoner Kitty</td>\n",
              "      <td>2018-01-04</td>\n",
              "      <td>4.99</td>\n",
              "      <td>761140</td>\n",
              "      <td>Kotoshiro</td>\n",
              "      <td>2018</td>\n",
              "    </tr>\n",
              "    <tr>\n",
              "      <th>88310</th>\n",
              "      <td>Strategy</td>\n",
              "      <td>Lost Summoner Kitty</td>\n",
              "      <td>2018-01-04</td>\n",
              "      <td>4.99</td>\n",
              "      <td>761140</td>\n",
              "      <td>Kotoshiro</td>\n",
              "      <td>2018</td>\n",
              "    </tr>\n",
              "    <tr>\n",
              "      <th>88311</th>\n",
              "      <td>Free to Play</td>\n",
              "      <td>Ironbound</td>\n",
              "      <td>2018-01-04</td>\n",
              "      <td>4.99</td>\n",
              "      <td>643980</td>\n",
              "      <td>Secret Level SRL</td>\n",
              "      <td>2018</td>\n",
              "    </tr>\n",
              "    <tr>\n",
              "      <th>88311</th>\n",
              "      <td>Indie</td>\n",
              "      <td>Ironbound</td>\n",
              "      <td>2018-01-04</td>\n",
              "      <td>4.99</td>\n",
              "      <td>643980</td>\n",
              "      <td>Secret Level SRL</td>\n",
              "      <td>2018</td>\n",
              "    </tr>\n",
              "    <tr>\n",
              "      <th>88311</th>\n",
              "      <td>RPG</td>\n",
              "      <td>Ironbound</td>\n",
              "      <td>2018-01-04</td>\n",
              "      <td>4.99</td>\n",
              "      <td>643980</td>\n",
              "      <td>Secret Level SRL</td>\n",
              "      <td>2018</td>\n",
              "    </tr>\n",
              "    <tr>\n",
              "      <th>88311</th>\n",
              "      <td>Strategy</td>\n",
              "      <td>Ironbound</td>\n",
              "      <td>2018-01-04</td>\n",
              "      <td>4.99</td>\n",
              "      <td>643980</td>\n",
              "      <td>Secret Level SRL</td>\n",
              "      <td>2018</td>\n",
              "    </tr>\n",
              "  </tbody>\n",
              "</table>\n",
              "</div>\n",
              "    <div class=\"colab-df-buttons\">\n",
              "\n",
              "  <div class=\"colab-df-container\">\n",
              "    <button class=\"colab-df-convert\" onclick=\"convertToInteractive('df-c457318d-fc9e-4569-abd0-d4ba433d47e4')\"\n",
              "            title=\"Convert this dataframe to an interactive table.\"\n",
              "            style=\"display:none;\">\n",
              "\n",
              "  <svg xmlns=\"http://www.w3.org/2000/svg\" height=\"24px\" viewBox=\"0 -960 960 960\">\n",
              "    <path d=\"M120-120v-720h720v720H120Zm60-500h600v-160H180v160Zm220 220h160v-160H400v160Zm0 220h160v-160H400v160ZM180-400h160v-160H180v160Zm440 0h160v-160H620v160ZM180-180h160v-160H180v160Zm440 0h160v-160H620v160Z\"/>\n",
              "  </svg>\n",
              "    </button>\n",
              "\n",
              "  <style>\n",
              "    .colab-df-container {\n",
              "      display:flex;\n",
              "      gap: 12px;\n",
              "    }\n",
              "\n",
              "    .colab-df-convert {\n",
              "      background-color: #E8F0FE;\n",
              "      border: none;\n",
              "      border-radius: 50%;\n",
              "      cursor: pointer;\n",
              "      display: none;\n",
              "      fill: #1967D2;\n",
              "      height: 32px;\n",
              "      padding: 0 0 0 0;\n",
              "      width: 32px;\n",
              "    }\n",
              "\n",
              "    .colab-df-convert:hover {\n",
              "      background-color: #E2EBFA;\n",
              "      box-shadow: 0px 1px 2px rgba(60, 64, 67, 0.3), 0px 1px 3px 1px rgba(60, 64, 67, 0.15);\n",
              "      fill: #174EA6;\n",
              "    }\n",
              "\n",
              "    .colab-df-buttons div {\n",
              "      margin-bottom: 4px;\n",
              "    }\n",
              "\n",
              "    [theme=dark] .colab-df-convert {\n",
              "      background-color: #3B4455;\n",
              "      fill: #D2E3FC;\n",
              "    }\n",
              "\n",
              "    [theme=dark] .colab-df-convert:hover {\n",
              "      background-color: #434B5C;\n",
              "      box-shadow: 0px 1px 3px 1px rgba(0, 0, 0, 0.15);\n",
              "      filter: drop-shadow(0px 1px 2px rgba(0, 0, 0, 0.3));\n",
              "      fill: #FFFFFF;\n",
              "    }\n",
              "  </style>\n",
              "\n",
              "    <script>\n",
              "      const buttonEl =\n",
              "        document.querySelector('#df-c457318d-fc9e-4569-abd0-d4ba433d47e4 button.colab-df-convert');\n",
              "      buttonEl.style.display =\n",
              "        google.colab.kernel.accessAllowed ? 'block' : 'none';\n",
              "\n",
              "      async function convertToInteractive(key) {\n",
              "        const element = document.querySelector('#df-c457318d-fc9e-4569-abd0-d4ba433d47e4');\n",
              "        const dataTable =\n",
              "          await google.colab.kernel.invokeFunction('convertToInteractive',\n",
              "                                                    [key], {});\n",
              "        if (!dataTable) return;\n",
              "\n",
              "        const docLinkHtml = 'Like what you see? Visit the ' +\n",
              "          '<a target=\"_blank\" href=https://colab.research.google.com/notebooks/data_table.ipynb>data table notebook</a>'\n",
              "          + ' to learn more about interactive tables.';\n",
              "        element.innerHTML = '';\n",
              "        dataTable['output_type'] = 'display_data';\n",
              "        await google.colab.output.renderOutput(dataTable, element);\n",
              "        const docLink = document.createElement('div');\n",
              "        docLink.innerHTML = docLinkHtml;\n",
              "        element.appendChild(docLink);\n",
              "      }\n",
              "    </script>\n",
              "  </div>\n",
              "\n",
              "\n",
              "<div id=\"df-1cc50caa-51a8-4750-bd90-f1aadefb4835\">\n",
              "  <button class=\"colab-df-quickchart\" onclick=\"quickchart('df-1cc50caa-51a8-4750-bd90-f1aadefb4835')\"\n",
              "            title=\"Suggest charts.\"\n",
              "            style=\"display:none;\">\n",
              "\n",
              "<svg xmlns=\"http://www.w3.org/2000/svg\" height=\"24px\"viewBox=\"0 0 24 24\"\n",
              "     width=\"24px\">\n",
              "    <g>\n",
              "        <path d=\"M19 3H5c-1.1 0-2 .9-2 2v14c0 1.1.9 2 2 2h14c1.1 0 2-.9 2-2V5c0-1.1-.9-2-2-2zM9 17H7v-7h2v7zm4 0h-2V7h2v10zm4 0h-2v-4h2v4z\"/>\n",
              "    </g>\n",
              "</svg>\n",
              "  </button>\n",
              "\n",
              "<style>\n",
              "  .colab-df-quickchart {\n",
              "      --bg-color: #E8F0FE;\n",
              "      --fill-color: #1967D2;\n",
              "      --hover-bg-color: #E2EBFA;\n",
              "      --hover-fill-color: #174EA6;\n",
              "      --disabled-fill-color: #AAA;\n",
              "      --disabled-bg-color: #DDD;\n",
              "  }\n",
              "\n",
              "  [theme=dark] .colab-df-quickchart {\n",
              "      --bg-color: #3B4455;\n",
              "      --fill-color: #D2E3FC;\n",
              "      --hover-bg-color: #434B5C;\n",
              "      --hover-fill-color: #FFFFFF;\n",
              "      --disabled-bg-color: #3B4455;\n",
              "      --disabled-fill-color: #666;\n",
              "  }\n",
              "\n",
              "  .colab-df-quickchart {\n",
              "    background-color: var(--bg-color);\n",
              "    border: none;\n",
              "    border-radius: 50%;\n",
              "    cursor: pointer;\n",
              "    display: none;\n",
              "    fill: var(--fill-color);\n",
              "    height: 32px;\n",
              "    padding: 0;\n",
              "    width: 32px;\n",
              "  }\n",
              "\n",
              "  .colab-df-quickchart:hover {\n",
              "    background-color: var(--hover-bg-color);\n",
              "    box-shadow: 0 1px 2px rgba(60, 64, 67, 0.3), 0 1px 3px 1px rgba(60, 64, 67, 0.15);\n",
              "    fill: var(--button-hover-fill-color);\n",
              "  }\n",
              "\n",
              "  .colab-df-quickchart-complete:disabled,\n",
              "  .colab-df-quickchart-complete:disabled:hover {\n",
              "    background-color: var(--disabled-bg-color);\n",
              "    fill: var(--disabled-fill-color);\n",
              "    box-shadow: none;\n",
              "  }\n",
              "\n",
              "  .colab-df-spinner {\n",
              "    border: 2px solid var(--fill-color);\n",
              "    border-color: transparent;\n",
              "    border-bottom-color: var(--fill-color);\n",
              "    animation:\n",
              "      spin 1s steps(1) infinite;\n",
              "  }\n",
              "\n",
              "  @keyframes spin {\n",
              "    0% {\n",
              "      border-color: transparent;\n",
              "      border-bottom-color: var(--fill-color);\n",
              "      border-left-color: var(--fill-color);\n",
              "    }\n",
              "    20% {\n",
              "      border-color: transparent;\n",
              "      border-left-color: var(--fill-color);\n",
              "      border-top-color: var(--fill-color);\n",
              "    }\n",
              "    30% {\n",
              "      border-color: transparent;\n",
              "      border-left-color: var(--fill-color);\n",
              "      border-top-color: var(--fill-color);\n",
              "      border-right-color: var(--fill-color);\n",
              "    }\n",
              "    40% {\n",
              "      border-color: transparent;\n",
              "      border-right-color: var(--fill-color);\n",
              "      border-top-color: var(--fill-color);\n",
              "    }\n",
              "    60% {\n",
              "      border-color: transparent;\n",
              "      border-right-color: var(--fill-color);\n",
              "    }\n",
              "    80% {\n",
              "      border-color: transparent;\n",
              "      border-right-color: var(--fill-color);\n",
              "      border-bottom-color: var(--fill-color);\n",
              "    }\n",
              "    90% {\n",
              "      border-color: transparent;\n",
              "      border-bottom-color: var(--fill-color);\n",
              "    }\n",
              "  }\n",
              "</style>\n",
              "\n",
              "  <script>\n",
              "    async function quickchart(key) {\n",
              "      const quickchartButtonEl =\n",
              "        document.querySelector('#' + key + ' button');\n",
              "      quickchartButtonEl.disabled = true;  // To prevent multiple clicks.\n",
              "      quickchartButtonEl.classList.add('colab-df-spinner');\n",
              "      try {\n",
              "        const charts = await google.colab.kernel.invokeFunction(\n",
              "            'suggestCharts', [key], {});\n",
              "      } catch (error) {\n",
              "        console.error('Error during call to suggestCharts:', error);\n",
              "      }\n",
              "      quickchartButtonEl.classList.remove('colab-df-spinner');\n",
              "      quickchartButtonEl.classList.add('colab-df-quickchart-complete');\n",
              "    }\n",
              "    (() => {\n",
              "      let quickchartButtonEl =\n",
              "        document.querySelector('#df-1cc50caa-51a8-4750-bd90-f1aadefb4835 button');\n",
              "      quickchartButtonEl.style.display =\n",
              "        google.colab.kernel.accessAllowed ? 'block' : 'none';\n",
              "    })();\n",
              "  </script>\n",
              "</div>\n",
              "    </div>\n",
              "  </div>\n"
            ]
          },
          "metadata": {},
          "execution_count": 182
        }
      ],
      "source": [
        "df_steam_exploded.head(9)"
      ]
    },
    {
      "cell_type": "code",
      "execution_count": 183,
      "metadata": {
        "colab": {
          "base_uri": "https://localhost:8080/"
        },
        "id": "vahiRshKhZ_R",
        "outputId": "f66d02bc-9fd9-474d-b363-170ea4ad1852"
      },
      "outputs": [
        {
          "output_type": "stream",
          "name": "stdout",
          "text": [
            "Index(['user_id', 'items_count', 'item_id', 'item_name', 'playtime_forever'], dtype='object')\n"
          ]
        }
      ],
      "source": [
        "print(df_items.columns)"
      ]
    },
    {
      "cell_type": "code",
      "execution_count": 184,
      "metadata": {
        "colab": {
          "base_uri": "https://localhost:8080/"
        },
        "id": "4J7JQB_nhkPm",
        "outputId": "f1e0d4f1-f597-46cd-d48b-8f2c90c58828"
      },
      "outputs": [
        {
          "output_type": "stream",
          "name": "stdout",
          "text": [
            "Index(['genres', 'item_name', 'release_date', 'price', 'item_id', 'developer',\n",
            "       'year'],\n",
            "      dtype='object')\n"
          ]
        }
      ],
      "source": [
        "print(df_steam.columns)"
      ]
    },
    {
      "cell_type": "code",
      "execution_count": 185,
      "metadata": {
        "colab": {
          "base_uri": "https://localhost:8080/"
        },
        "id": "3xBmudSYwdYm",
        "outputId": "b270205b-7e8b-4822-8a9d-926d370a83fb"
      },
      "outputs": [
        {
          "output_type": "stream",
          "name": "stdout",
          "text": [
            "Index(['user_id', 'posted', 'item_id', 'recommend', 'year_posted',\n",
            "       'sentiment_analysis'],\n",
            "      dtype='object')\n"
          ]
        }
      ],
      "source": [
        "print(df_reviews.columns)"
      ]
    },
    {
      "cell_type": "code",
      "execution_count": 186,
      "metadata": {
        "id": "VMRT6xBJw2pN"
      },
      "outputs": [],
      "source": [
        "recommended_reviews = df_reviews[df_reviews['recommend']]['recommend'].count()"
      ]
    },
    {
      "cell_type": "code",
      "execution_count": 187,
      "metadata": {
        "colab": {
          "base_uri": "https://localhost:8080/"
        },
        "id": "sv1sfR0Dw98L",
        "outputId": "b3ea12c8-d1dc-4beb-e8e5-a3d3a0e68035"
      },
      "outputs": [
        {
          "output_type": "execute_result",
          "data": {
            "text/plain": [
              "43557"
            ]
          },
          "metadata": {},
          "execution_count": 187
        }
      ],
      "source": [
        "recommended_reviews"
      ]
    },
    {
      "cell_type": "code",
      "execution_count": 188,
      "metadata": {
        "colab": {
          "base_uri": "https://localhost:8080/"
        },
        "id": "xVLMZEfcxDaO",
        "outputId": "d9c99a86-d5c9-43a1-b900-c1008bc9f51a"
      },
      "outputs": [
        {
          "output_type": "execute_result",
          "data": {
            "text/plain": [
              "True     43557\n",
              "False     4941\n",
              "Name: recommend, dtype: int64"
            ]
          },
          "metadata": {},
          "execution_count": 188
        }
      ],
      "source": [
        "df_reviews['recommend'].value_counts()"
      ]
    },
    {
      "cell_type": "code",
      "execution_count": 189,
      "metadata": {
        "id": "HTwUPmHh1XBS"
      },
      "outputs": [],
      "source": [
        "def userdata(User_id: str):\n",
        "    # Filtrar los dataframes para el usuario proporcionado\n",
        "    # Obtener las filas del dataframe df_items donde la columna 'user_id' coincide con User_id\n",
        "    user_items = df_items[df_items['user_id'] == User_id]\n",
        "\n",
        "    # Obtener las filas del dataframe df_reviews donde la columna 'user_id' coincide con User_id\n",
        "    user_reviews = df_reviews[df_reviews['user_id'] == User_id]\n",
        "\n",
        "    # Calcular el dinero gastado\n",
        "    # Obtener los ids de los items que el usuario ha comprado\n",
        "    item_ids = user_items['item_id'].unique()\n",
        "\n",
        "    # Calcula la suma de los precios de los items comprados por el usuario\n",
        "    steam_prices = df_steam[df_steam['item_id'].isin(item_ids)]['price']\n",
        "    money_spent = steam_prices.sum()\n",
        "\n",
        "    # Calcular el porcentaje de recomendación\n",
        "    total_reviews = len(user_reviews)\n",
        "    if total_reviews > 0:\n",
        "        recommended_reviews = user_reviews[user_reviews['recommend']]['recommend'].count()\n",
        "        recommendation_percentage = (recommended_reviews / total_reviews) * 100\n",
        "    else:\n",
        "        recommendation_percentage = 0\n",
        "\n",
        "    # Contar la cantidad de items\n",
        "    item_count = len(item_ids)\n",
        "\n",
        "    return {\"Usuario\": User_id, \"Dinero gastado\": f\"{money_spent} USD\", \"% de recomendación\": f\"{recommendation_percentage}%\", \"cantidad de items\": item_count}\n"
      ]
    },
    {
      "cell_type": "code",
      "execution_count": 190,
      "metadata": {
        "colab": {
          "base_uri": "https://localhost:8080/",
          "height": 989
        },
        "id": "lgqKl1xNxQTJ",
        "outputId": "29da1e74-f022-4244-d499-6bc9c7f49cd9"
      },
      "outputs": [
        {
          "output_type": "execute_result",
          "data": {
            "text/plain": [
              "                   user_id  items_count  item_id  \\\n",
              "3285216  76561198312638244           36        4   \n",
              "3285217  76561198312638244           36        3   \n",
              "3285218  76561198313144785            3        3   \n",
              "3285219  76561198313144785            3        3   \n",
              "3285220  76561198313357718            7        2   \n",
              "3285221  76561198313357718            7        2   \n",
              "3285222  76561198313357718            7        7   \n",
              "3285223           POMFP0MF            1        7   \n",
              "3285224  76561198314015545           14        2   \n",
              "3285225  76561198314015545           14        4   \n",
              "3285226  76561198315899135            1        2   \n",
              "3285227  76561198316040453            1        2   \n",
              "3285228  76561198319916652            4        2   \n",
              "3285229  76561198319916652            4        3   \n",
              "3285230  76561198319916652            4        3   \n",
              "3285231  76561198320038728            5        3   \n",
              "3285232  76561198320038728            5        3   \n",
              "3285233  76561198320038728            5        2   \n",
              "3285234  76561198320038728            5        3   \n",
              "3285235  76561198320038728            5        4   \n",
              "3285236  76561198320136420          321        4   \n",
              "3285237  76561198320136420          321        2   \n",
              "3285238          ArkPlays7            4        7   \n",
              "3285239          ArkPlays7            4        3   \n",
              "3285240  76561198323066619           22        4   \n",
              "3285241  76561198329548331            7        3   \n",
              "3285242  76561198329548331            7        2   \n",
              "3285243  76561198329548331            7        3   \n",
              "3285244  76561198329548331            7        5   \n",
              "3285245  76561198329548331            7        5   \n",
              "\n",
              "                                  item_name  playtime_forever  \n",
              "3285216                              ShareX                 1  \n",
              "3285217                                DOOM              1178  \n",
              "3285218                            Unturned                62  \n",
              "3285219                               SMITE                 1  \n",
              "3285220                          F.E.A.R. 3               115  \n",
              "3285221                      How to Survive               451  \n",
              "3285222    Counter-Strike: Global Offensive              2317  \n",
              "3285223    Counter-Strike: Global Offensive              2987  \n",
              "3285224                         Half-Life 2                64  \n",
              "3285225          ARCADE GAME SERIES: GALAGA                12  \n",
              "3285226                         Gang Beasts               213  \n",
              "3285227                         Gang Beasts                84  \n",
              "3285228  Dark Souls: Prepare to Die Edition               116  \n",
              "3285229                            NBA 2K16              1533  \n",
              "3285230                    Street Fighter V               171  \n",
              "3285231                      Moonbase Alpha                71  \n",
              "3285232                            Unturned                38  \n",
              "3285233                   Heroes & Generals                59  \n",
              "3285234                        BrainBread 2               756  \n",
              "3285235                    Riders of Icarus               153  \n",
              "3285236                              Moirai                 2  \n",
              "3285237                      Evolve Stage 2               103  \n",
              "3285238    Counter-Strike: Global Offensive              4557  \n",
              "3285239               ARK: Survival Evolved               623  \n",
              "3285240                       Emily is Away                 8  \n",
              "3285241                            Unturned               677  \n",
              "3285242                   Heroes & Generals                43  \n",
              "3285243       One Way To Die: Steam Edition                 3  \n",
              "3285244               You Have 10 Seconds 2                 4  \n",
              "3285245                          Minds Eyes                 3  "
            ],
            "text/html": [
              "\n",
              "  <div id=\"df-ba51efc1-472f-45eb-922a-1dcd339fd238\" class=\"colab-df-container\">\n",
              "    <div>\n",
              "<style scoped>\n",
              "    .dataframe tbody tr th:only-of-type {\n",
              "        vertical-align: middle;\n",
              "    }\n",
              "\n",
              "    .dataframe tbody tr th {\n",
              "        vertical-align: top;\n",
              "    }\n",
              "\n",
              "    .dataframe thead th {\n",
              "        text-align: right;\n",
              "    }\n",
              "</style>\n",
              "<table border=\"1\" class=\"dataframe\">\n",
              "  <thead>\n",
              "    <tr style=\"text-align: right;\">\n",
              "      <th></th>\n",
              "      <th>user_id</th>\n",
              "      <th>items_count</th>\n",
              "      <th>item_id</th>\n",
              "      <th>item_name</th>\n",
              "      <th>playtime_forever</th>\n",
              "    </tr>\n",
              "  </thead>\n",
              "  <tbody>\n",
              "    <tr>\n",
              "      <th>3285216</th>\n",
              "      <td>76561198312638244</td>\n",
              "      <td>36</td>\n",
              "      <td>4</td>\n",
              "      <td>ShareX</td>\n",
              "      <td>1</td>\n",
              "    </tr>\n",
              "    <tr>\n",
              "      <th>3285217</th>\n",
              "      <td>76561198312638244</td>\n",
              "      <td>36</td>\n",
              "      <td>3</td>\n",
              "      <td>DOOM</td>\n",
              "      <td>1178</td>\n",
              "    </tr>\n",
              "    <tr>\n",
              "      <th>3285218</th>\n",
              "      <td>76561198313144785</td>\n",
              "      <td>3</td>\n",
              "      <td>3</td>\n",
              "      <td>Unturned</td>\n",
              "      <td>62</td>\n",
              "    </tr>\n",
              "    <tr>\n",
              "      <th>3285219</th>\n",
              "      <td>76561198313144785</td>\n",
              "      <td>3</td>\n",
              "      <td>3</td>\n",
              "      <td>SMITE</td>\n",
              "      <td>1</td>\n",
              "    </tr>\n",
              "    <tr>\n",
              "      <th>3285220</th>\n",
              "      <td>76561198313357718</td>\n",
              "      <td>7</td>\n",
              "      <td>2</td>\n",
              "      <td>F.E.A.R. 3</td>\n",
              "      <td>115</td>\n",
              "    </tr>\n",
              "    <tr>\n",
              "      <th>3285221</th>\n",
              "      <td>76561198313357718</td>\n",
              "      <td>7</td>\n",
              "      <td>2</td>\n",
              "      <td>How to Survive</td>\n",
              "      <td>451</td>\n",
              "    </tr>\n",
              "    <tr>\n",
              "      <th>3285222</th>\n",
              "      <td>76561198313357718</td>\n",
              "      <td>7</td>\n",
              "      <td>7</td>\n",
              "      <td>Counter-Strike: Global Offensive</td>\n",
              "      <td>2317</td>\n",
              "    </tr>\n",
              "    <tr>\n",
              "      <th>3285223</th>\n",
              "      <td>POMFP0MF</td>\n",
              "      <td>1</td>\n",
              "      <td>7</td>\n",
              "      <td>Counter-Strike: Global Offensive</td>\n",
              "      <td>2987</td>\n",
              "    </tr>\n",
              "    <tr>\n",
              "      <th>3285224</th>\n",
              "      <td>76561198314015545</td>\n",
              "      <td>14</td>\n",
              "      <td>2</td>\n",
              "      <td>Half-Life 2</td>\n",
              "      <td>64</td>\n",
              "    </tr>\n",
              "    <tr>\n",
              "      <th>3285225</th>\n",
              "      <td>76561198314015545</td>\n",
              "      <td>14</td>\n",
              "      <td>4</td>\n",
              "      <td>ARCADE GAME SERIES: GALAGA</td>\n",
              "      <td>12</td>\n",
              "    </tr>\n",
              "    <tr>\n",
              "      <th>3285226</th>\n",
              "      <td>76561198315899135</td>\n",
              "      <td>1</td>\n",
              "      <td>2</td>\n",
              "      <td>Gang Beasts</td>\n",
              "      <td>213</td>\n",
              "    </tr>\n",
              "    <tr>\n",
              "      <th>3285227</th>\n",
              "      <td>76561198316040453</td>\n",
              "      <td>1</td>\n",
              "      <td>2</td>\n",
              "      <td>Gang Beasts</td>\n",
              "      <td>84</td>\n",
              "    </tr>\n",
              "    <tr>\n",
              "      <th>3285228</th>\n",
              "      <td>76561198319916652</td>\n",
              "      <td>4</td>\n",
              "      <td>2</td>\n",
              "      <td>Dark Souls: Prepare to Die Edition</td>\n",
              "      <td>116</td>\n",
              "    </tr>\n",
              "    <tr>\n",
              "      <th>3285229</th>\n",
              "      <td>76561198319916652</td>\n",
              "      <td>4</td>\n",
              "      <td>3</td>\n",
              "      <td>NBA 2K16</td>\n",
              "      <td>1533</td>\n",
              "    </tr>\n",
              "    <tr>\n",
              "      <th>3285230</th>\n",
              "      <td>76561198319916652</td>\n",
              "      <td>4</td>\n",
              "      <td>3</td>\n",
              "      <td>Street Fighter V</td>\n",
              "      <td>171</td>\n",
              "    </tr>\n",
              "    <tr>\n",
              "      <th>3285231</th>\n",
              "      <td>76561198320038728</td>\n",
              "      <td>5</td>\n",
              "      <td>3</td>\n",
              "      <td>Moonbase Alpha</td>\n",
              "      <td>71</td>\n",
              "    </tr>\n",
              "    <tr>\n",
              "      <th>3285232</th>\n",
              "      <td>76561198320038728</td>\n",
              "      <td>5</td>\n",
              "      <td>3</td>\n",
              "      <td>Unturned</td>\n",
              "      <td>38</td>\n",
              "    </tr>\n",
              "    <tr>\n",
              "      <th>3285233</th>\n",
              "      <td>76561198320038728</td>\n",
              "      <td>5</td>\n",
              "      <td>2</td>\n",
              "      <td>Heroes &amp; Generals</td>\n",
              "      <td>59</td>\n",
              "    </tr>\n",
              "    <tr>\n",
              "      <th>3285234</th>\n",
              "      <td>76561198320038728</td>\n",
              "      <td>5</td>\n",
              "      <td>3</td>\n",
              "      <td>BrainBread 2</td>\n",
              "      <td>756</td>\n",
              "    </tr>\n",
              "    <tr>\n",
              "      <th>3285235</th>\n",
              "      <td>76561198320038728</td>\n",
              "      <td>5</td>\n",
              "      <td>4</td>\n",
              "      <td>Riders of Icarus</td>\n",
              "      <td>153</td>\n",
              "    </tr>\n",
              "    <tr>\n",
              "      <th>3285236</th>\n",
              "      <td>76561198320136420</td>\n",
              "      <td>321</td>\n",
              "      <td>4</td>\n",
              "      <td>Moirai</td>\n",
              "      <td>2</td>\n",
              "    </tr>\n",
              "    <tr>\n",
              "      <th>3285237</th>\n",
              "      <td>76561198320136420</td>\n",
              "      <td>321</td>\n",
              "      <td>2</td>\n",
              "      <td>Evolve Stage 2</td>\n",
              "      <td>103</td>\n",
              "    </tr>\n",
              "    <tr>\n",
              "      <th>3285238</th>\n",
              "      <td>ArkPlays7</td>\n",
              "      <td>4</td>\n",
              "      <td>7</td>\n",
              "      <td>Counter-Strike: Global Offensive</td>\n",
              "      <td>4557</td>\n",
              "    </tr>\n",
              "    <tr>\n",
              "      <th>3285239</th>\n",
              "      <td>ArkPlays7</td>\n",
              "      <td>4</td>\n",
              "      <td>3</td>\n",
              "      <td>ARK: Survival Evolved</td>\n",
              "      <td>623</td>\n",
              "    </tr>\n",
              "    <tr>\n",
              "      <th>3285240</th>\n",
              "      <td>76561198323066619</td>\n",
              "      <td>22</td>\n",
              "      <td>4</td>\n",
              "      <td>Emily is Away</td>\n",
              "      <td>8</td>\n",
              "    </tr>\n",
              "    <tr>\n",
              "      <th>3285241</th>\n",
              "      <td>76561198329548331</td>\n",
              "      <td>7</td>\n",
              "      <td>3</td>\n",
              "      <td>Unturned</td>\n",
              "      <td>677</td>\n",
              "    </tr>\n",
              "    <tr>\n",
              "      <th>3285242</th>\n",
              "      <td>76561198329548331</td>\n",
              "      <td>7</td>\n",
              "      <td>2</td>\n",
              "      <td>Heroes &amp; Generals</td>\n",
              "      <td>43</td>\n",
              "    </tr>\n",
              "    <tr>\n",
              "      <th>3285243</th>\n",
              "      <td>76561198329548331</td>\n",
              "      <td>7</td>\n",
              "      <td>3</td>\n",
              "      <td>One Way To Die: Steam Edition</td>\n",
              "      <td>3</td>\n",
              "    </tr>\n",
              "    <tr>\n",
              "      <th>3285244</th>\n",
              "      <td>76561198329548331</td>\n",
              "      <td>7</td>\n",
              "      <td>5</td>\n",
              "      <td>You Have 10 Seconds 2</td>\n",
              "      <td>4</td>\n",
              "    </tr>\n",
              "    <tr>\n",
              "      <th>3285245</th>\n",
              "      <td>76561198329548331</td>\n",
              "      <td>7</td>\n",
              "      <td>5</td>\n",
              "      <td>Minds Eyes</td>\n",
              "      <td>3</td>\n",
              "    </tr>\n",
              "  </tbody>\n",
              "</table>\n",
              "</div>\n",
              "    <div class=\"colab-df-buttons\">\n",
              "\n",
              "  <div class=\"colab-df-container\">\n",
              "    <button class=\"colab-df-convert\" onclick=\"convertToInteractive('df-ba51efc1-472f-45eb-922a-1dcd339fd238')\"\n",
              "            title=\"Convert this dataframe to an interactive table.\"\n",
              "            style=\"display:none;\">\n",
              "\n",
              "  <svg xmlns=\"http://www.w3.org/2000/svg\" height=\"24px\" viewBox=\"0 -960 960 960\">\n",
              "    <path d=\"M120-120v-720h720v720H120Zm60-500h600v-160H180v160Zm220 220h160v-160H400v160Zm0 220h160v-160H400v160ZM180-400h160v-160H180v160Zm440 0h160v-160H620v160ZM180-180h160v-160H180v160Zm440 0h160v-160H620v160Z\"/>\n",
              "  </svg>\n",
              "    </button>\n",
              "\n",
              "  <style>\n",
              "    .colab-df-container {\n",
              "      display:flex;\n",
              "      gap: 12px;\n",
              "    }\n",
              "\n",
              "    .colab-df-convert {\n",
              "      background-color: #E8F0FE;\n",
              "      border: none;\n",
              "      border-radius: 50%;\n",
              "      cursor: pointer;\n",
              "      display: none;\n",
              "      fill: #1967D2;\n",
              "      height: 32px;\n",
              "      padding: 0 0 0 0;\n",
              "      width: 32px;\n",
              "    }\n",
              "\n",
              "    .colab-df-convert:hover {\n",
              "      background-color: #E2EBFA;\n",
              "      box-shadow: 0px 1px 2px rgba(60, 64, 67, 0.3), 0px 1px 3px 1px rgba(60, 64, 67, 0.15);\n",
              "      fill: #174EA6;\n",
              "    }\n",
              "\n",
              "    .colab-df-buttons div {\n",
              "      margin-bottom: 4px;\n",
              "    }\n",
              "\n",
              "    [theme=dark] .colab-df-convert {\n",
              "      background-color: #3B4455;\n",
              "      fill: #D2E3FC;\n",
              "    }\n",
              "\n",
              "    [theme=dark] .colab-df-convert:hover {\n",
              "      background-color: #434B5C;\n",
              "      box-shadow: 0px 1px 3px 1px rgba(0, 0, 0, 0.15);\n",
              "      filter: drop-shadow(0px 1px 2px rgba(0, 0, 0, 0.3));\n",
              "      fill: #FFFFFF;\n",
              "    }\n",
              "  </style>\n",
              "\n",
              "    <script>\n",
              "      const buttonEl =\n",
              "        document.querySelector('#df-ba51efc1-472f-45eb-922a-1dcd339fd238 button.colab-df-convert');\n",
              "      buttonEl.style.display =\n",
              "        google.colab.kernel.accessAllowed ? 'block' : 'none';\n",
              "\n",
              "      async function convertToInteractive(key) {\n",
              "        const element = document.querySelector('#df-ba51efc1-472f-45eb-922a-1dcd339fd238');\n",
              "        const dataTable =\n",
              "          await google.colab.kernel.invokeFunction('convertToInteractive',\n",
              "                                                    [key], {});\n",
              "        if (!dataTable) return;\n",
              "\n",
              "        const docLinkHtml = 'Like what you see? Visit the ' +\n",
              "          '<a target=\"_blank\" href=https://colab.research.google.com/notebooks/data_table.ipynb>data table notebook</a>'\n",
              "          + ' to learn more about interactive tables.';\n",
              "        element.innerHTML = '';\n",
              "        dataTable['output_type'] = 'display_data';\n",
              "        await google.colab.output.renderOutput(dataTable, element);\n",
              "        const docLink = document.createElement('div');\n",
              "        docLink.innerHTML = docLinkHtml;\n",
              "        element.appendChild(docLink);\n",
              "      }\n",
              "    </script>\n",
              "  </div>\n",
              "\n",
              "\n",
              "<div id=\"df-c7cd2f07-50ef-4e42-a0d1-9443ae83bbe7\">\n",
              "  <button class=\"colab-df-quickchart\" onclick=\"quickchart('df-c7cd2f07-50ef-4e42-a0d1-9443ae83bbe7')\"\n",
              "            title=\"Suggest charts.\"\n",
              "            style=\"display:none;\">\n",
              "\n",
              "<svg xmlns=\"http://www.w3.org/2000/svg\" height=\"24px\"viewBox=\"0 0 24 24\"\n",
              "     width=\"24px\">\n",
              "    <g>\n",
              "        <path d=\"M19 3H5c-1.1 0-2 .9-2 2v14c0 1.1.9 2 2 2h14c1.1 0 2-.9 2-2V5c0-1.1-.9-2-2-2zM9 17H7v-7h2v7zm4 0h-2V7h2v10zm4 0h-2v-4h2v4z\"/>\n",
              "    </g>\n",
              "</svg>\n",
              "  </button>\n",
              "\n",
              "<style>\n",
              "  .colab-df-quickchart {\n",
              "      --bg-color: #E8F0FE;\n",
              "      --fill-color: #1967D2;\n",
              "      --hover-bg-color: #E2EBFA;\n",
              "      --hover-fill-color: #174EA6;\n",
              "      --disabled-fill-color: #AAA;\n",
              "      --disabled-bg-color: #DDD;\n",
              "  }\n",
              "\n",
              "  [theme=dark] .colab-df-quickchart {\n",
              "      --bg-color: #3B4455;\n",
              "      --fill-color: #D2E3FC;\n",
              "      --hover-bg-color: #434B5C;\n",
              "      --hover-fill-color: #FFFFFF;\n",
              "      --disabled-bg-color: #3B4455;\n",
              "      --disabled-fill-color: #666;\n",
              "  }\n",
              "\n",
              "  .colab-df-quickchart {\n",
              "    background-color: var(--bg-color);\n",
              "    border: none;\n",
              "    border-radius: 50%;\n",
              "    cursor: pointer;\n",
              "    display: none;\n",
              "    fill: var(--fill-color);\n",
              "    height: 32px;\n",
              "    padding: 0;\n",
              "    width: 32px;\n",
              "  }\n",
              "\n",
              "  .colab-df-quickchart:hover {\n",
              "    background-color: var(--hover-bg-color);\n",
              "    box-shadow: 0 1px 2px rgba(60, 64, 67, 0.3), 0 1px 3px 1px rgba(60, 64, 67, 0.15);\n",
              "    fill: var(--button-hover-fill-color);\n",
              "  }\n",
              "\n",
              "  .colab-df-quickchart-complete:disabled,\n",
              "  .colab-df-quickchart-complete:disabled:hover {\n",
              "    background-color: var(--disabled-bg-color);\n",
              "    fill: var(--disabled-fill-color);\n",
              "    box-shadow: none;\n",
              "  }\n",
              "\n",
              "  .colab-df-spinner {\n",
              "    border: 2px solid var(--fill-color);\n",
              "    border-color: transparent;\n",
              "    border-bottom-color: var(--fill-color);\n",
              "    animation:\n",
              "      spin 1s steps(1) infinite;\n",
              "  }\n",
              "\n",
              "  @keyframes spin {\n",
              "    0% {\n",
              "      border-color: transparent;\n",
              "      border-bottom-color: var(--fill-color);\n",
              "      border-left-color: var(--fill-color);\n",
              "    }\n",
              "    20% {\n",
              "      border-color: transparent;\n",
              "      border-left-color: var(--fill-color);\n",
              "      border-top-color: var(--fill-color);\n",
              "    }\n",
              "    30% {\n",
              "      border-color: transparent;\n",
              "      border-left-color: var(--fill-color);\n",
              "      border-top-color: var(--fill-color);\n",
              "      border-right-color: var(--fill-color);\n",
              "    }\n",
              "    40% {\n",
              "      border-color: transparent;\n",
              "      border-right-color: var(--fill-color);\n",
              "      border-top-color: var(--fill-color);\n",
              "    }\n",
              "    60% {\n",
              "      border-color: transparent;\n",
              "      border-right-color: var(--fill-color);\n",
              "    }\n",
              "    80% {\n",
              "      border-color: transparent;\n",
              "      border-right-color: var(--fill-color);\n",
              "      border-bottom-color: var(--fill-color);\n",
              "    }\n",
              "    90% {\n",
              "      border-color: transparent;\n",
              "      border-bottom-color: var(--fill-color);\n",
              "    }\n",
              "  }\n",
              "</style>\n",
              "\n",
              "  <script>\n",
              "    async function quickchart(key) {\n",
              "      const quickchartButtonEl =\n",
              "        document.querySelector('#' + key + ' button');\n",
              "      quickchartButtonEl.disabled = true;  // To prevent multiple clicks.\n",
              "      quickchartButtonEl.classList.add('colab-df-spinner');\n",
              "      try {\n",
              "        const charts = await google.colab.kernel.invokeFunction(\n",
              "            'suggestCharts', [key], {});\n",
              "      } catch (error) {\n",
              "        console.error('Error during call to suggestCharts:', error);\n",
              "      }\n",
              "      quickchartButtonEl.classList.remove('colab-df-spinner');\n",
              "      quickchartButtonEl.classList.add('colab-df-quickchart-complete');\n",
              "    }\n",
              "    (() => {\n",
              "      let quickchartButtonEl =\n",
              "        document.querySelector('#df-c7cd2f07-50ef-4e42-a0d1-9443ae83bbe7 button');\n",
              "      quickchartButtonEl.style.display =\n",
              "        google.colab.kernel.accessAllowed ? 'block' : 'none';\n",
              "    })();\n",
              "  </script>\n",
              "</div>\n",
              "    </div>\n",
              "  </div>\n"
            ]
          },
          "metadata": {},
          "execution_count": 190
        }
      ],
      "source": [
        "df_items.tail(30)"
      ]
    },
    {
      "cell_type": "code",
      "execution_count": 191,
      "metadata": {
        "colab": {
          "base_uri": "https://localhost:8080/"
        },
        "id": "iA4a-GZQ3L6i",
        "outputId": "f9552e41-2acb-4b74-b91a-09c7d636ea80"
      },
      "outputs": [
        {
          "output_type": "execute_result",
          "data": {
            "text/plain": [
              "{'Usuario': '76561197970982479',\n",
              " 'Dinero gastado': '0.0 USD',\n",
              " '% de recomendación': '100.0%',\n",
              " 'cantidad de items': 9}"
            ]
          },
          "metadata": {},
          "execution_count": 191
        }
      ],
      "source": [
        "userdata('76561197970982479')"
      ]
    },
    {
      "cell_type": "code",
      "execution_count": 192,
      "metadata": {
        "colab": {
          "base_uri": "https://localhost:8080/"
        },
        "id": "9EaHyNB-3TFA",
        "outputId": "17bae1d2-acf2-420c-ca26-896fb4706366"
      },
      "outputs": [
        {
          "output_type": "execute_result",
          "data": {
            "text/plain": [
              "{'Usuario': 'js41637',\n",
              " 'Dinero gastado': '0.0 USD',\n",
              " '% de recomendación': '100.0%',\n",
              " 'cantidad de items': 9}"
            ]
          },
          "metadata": {},
          "execution_count": 192
        }
      ],
      "source": [
        "userdata('js41637')"
      ]
    },
    {
      "cell_type": "code",
      "execution_count": 193,
      "metadata": {
        "colab": {
          "base_uri": "https://localhost:8080/"
        },
        "id": "55Mj8lRC5pu7",
        "outputId": "1066a9d6-9d48-43aa-d190-66cb884a6758"
      },
      "outputs": [
        {
          "output_type": "execute_result",
          "data": {
            "text/plain": [
              "{'Usuario': 'ArkPlays7',\n",
              " 'Dinero gastado': '0.0 USD',\n",
              " '% de recomendación': '0%',\n",
              " 'cantidad de items': 2}"
            ]
          },
          "metadata": {},
          "execution_count": 193
        }
      ],
      "source": [
        "userdata('ArkPlays7')"
      ]
    },
    {
      "cell_type": "code",
      "execution_count": 194,
      "metadata": {
        "colab": {
          "base_uri": "https://localhost:8080/"
        },
        "id": "1UTCIMp1xXfp",
        "outputId": "997c92bc-4a0e-48c4-c62b-32e0c216a6f9"
      },
      "outputs": [
        {
          "output_type": "execute_result",
          "data": {
            "text/plain": [
              "{'Usuario': '76561198320038728',\n",
              " 'Dinero gastado': '0.0 USD',\n",
              " '% de recomendación': '0%',\n",
              " 'cantidad de items': 3}"
            ]
          },
          "metadata": {},
          "execution_count": 194
        }
      ],
      "source": [
        "userdata('76561198320038728')"
      ]
    },
    {
      "cell_type": "code",
      "execution_count": 195,
      "metadata": {
        "colab": {
          "base_uri": "https://localhost:8080/"
        },
        "id": "Ggm1zENbxhty",
        "outputId": "b0820447-e12e-4bc3-f297-d10c0a18c3bd"
      },
      "outputs": [
        {
          "output_type": "execute_result",
          "data": {
            "text/plain": [
              "{'Usuario': '76561198313357718',\n",
              " 'Dinero gastado': '0.0 USD',\n",
              " '% de recomendación': '0%',\n",
              " 'cantidad de items': 2}"
            ]
          },
          "metadata": {},
          "execution_count": 195
        }
      ],
      "source": [
        "userdata('76561198313357718')"
      ]
    },
    {
      "cell_type": "code",
      "source": [
        "def developer(desarrollador: str):\n",
        "    desarrollador_lower = desarrollador.lower()  # Convertir el nombre del desarrollador a minúsculas\n",
        "    df_steam_lower = df_steam.copy()\n",
        "    df_steam_lower['developer'] = df_steam_lower['developer'].str.lower()  # Convertir los nombres de desarrolladores a minúsculas\n",
        "\n",
        "    filtered_steam = df_steam_lower[df_steam_lower['developer'] == desarrollador_lower]\n",
        "    filtered_steam_exploded = df_steam_exploded[df_steam_exploded['developer'].str.lower() == desarrollador_lower]\n",
        "    filtered_steam['release_date'] = pd.to_datetime(filtered_steam['release_date'])\n",
        "    filtered_steam['year'] = filtered_steam['release_date'].dt.year\n",
        "\n",
        "    grouped = filtered_steam.groupby('year').agg(\n",
        "        {'item_id': 'count', 'price': lambda x: sum(x == 0) / len(x)}\n",
        "    ).rename(columns={'item_id': 'Cantidad de Items', 'price': 'Contenido Free'})\n",
        "    grouped['Contenido Free'] = (grouped['Contenido Free'] * 100).round(1).astype(str) + '%'\n",
        "\n",
        "    return grouped.to_dict()"
      ],
      "metadata": {
        "id": "B2nTPiyPkCHZ"
      },
      "execution_count": 196,
      "outputs": []
    },
    {
      "cell_type": "code",
      "execution_count": 197,
      "metadata": {
        "colab": {
          "base_uri": "https://localhost:8080/"
        },
        "id": "o3-RHrfju94w",
        "outputId": "e716abcb-8c85-45d7-bbd7-177913969bb7"
      },
      "outputs": [
        {
          "output_type": "stream",
          "name": "stderr",
          "text": [
            "<ipython-input-196-b4b9677e4cc8>:8: SettingWithCopyWarning: \n",
            "A value is trying to be set on a copy of a slice from a DataFrame.\n",
            "Try using .loc[row_indexer,col_indexer] = value instead\n",
            "\n",
            "See the caveats in the documentation: https://pandas.pydata.org/pandas-docs/stable/user_guide/indexing.html#returning-a-view-versus-a-copy\n",
            "  filtered_steam['release_date'] = pd.to_datetime(filtered_steam['release_date'])\n",
            "<ipython-input-196-b4b9677e4cc8>:9: SettingWithCopyWarning: \n",
            "A value is trying to be set on a copy of a slice from a DataFrame.\n",
            "Try using .loc[row_indexer,col_indexer] = value instead\n",
            "\n",
            "See the caveats in the documentation: https://pandas.pydata.org/pandas-docs/stable/user_guide/indexing.html#returning-a-view-versus-a-copy\n",
            "  filtered_steam['year'] = filtered_steam['release_date'].dt.year\n"
          ]
        },
        {
          "output_type": "execute_result",
          "data": {
            "text/plain": [
              "{'Cantidad de Items': {1998: 1,\n",
              "  1999: 1,\n",
              "  2000: 2,\n",
              "  2001: 1,\n",
              "  2003: 1,\n",
              "  2004: 5,\n",
              "  2005: 1,\n",
              "  2006: 2,\n",
              "  2007: 3,\n",
              "  2008: 1,\n",
              "  2009: 1,\n",
              "  2010: 2,\n",
              "  2011: 1,\n",
              "  2012: 2,\n",
              "  2014: 7,\n",
              "  2016: 1,\n",
              "  2017: 2},\n",
              " 'Contenido Free': {1998: '0.0%',\n",
              "  1999: '0.0%',\n",
              "  2000: '0.0%',\n",
              "  2001: '0.0%',\n",
              "  2003: '0.0%',\n",
              "  2004: '0.0%',\n",
              "  2005: '0.0%',\n",
              "  2006: '0.0%',\n",
              "  2007: '0.0%',\n",
              "  2008: '0.0%',\n",
              "  2009: '0.0%',\n",
              "  2010: '0.0%',\n",
              "  2011: '0.0%',\n",
              "  2012: '0.0%',\n",
              "  2014: '0.0%',\n",
              "  2016: '0.0%',\n",
              "  2017: '0.0%'}}"
            ]
          },
          "metadata": {},
          "execution_count": 197
        }
      ],
      "source": [
        "developer('valve')"
      ]
    },
    {
      "cell_type": "code",
      "execution_count": 198,
      "metadata": {
        "colab": {
          "base_uri": "https://localhost:8080/"
        },
        "id": "ZNVHR2OlvBKn",
        "outputId": "5f6b3fad-48d0-4449-e3f9-54d81bec8327"
      },
      "outputs": [
        {
          "output_type": "stream",
          "name": "stderr",
          "text": [
            "<ipython-input-196-b4b9677e4cc8>:8: SettingWithCopyWarning: \n",
            "A value is trying to be set on a copy of a slice from a DataFrame.\n",
            "Try using .loc[row_indexer,col_indexer] = value instead\n",
            "\n",
            "See the caveats in the documentation: https://pandas.pydata.org/pandas-docs/stable/user_guide/indexing.html#returning-a-view-versus-a-copy\n",
            "  filtered_steam['release_date'] = pd.to_datetime(filtered_steam['release_date'])\n",
            "<ipython-input-196-b4b9677e4cc8>:9: SettingWithCopyWarning: \n",
            "A value is trying to be set on a copy of a slice from a DataFrame.\n",
            "Try using .loc[row_indexer,col_indexer] = value instead\n",
            "\n",
            "See the caveats in the documentation: https://pandas.pydata.org/pandas-docs/stable/user_guide/indexing.html#returning-a-view-versus-a-copy\n",
            "  filtered_steam['year'] = filtered_steam['release_date'].dt.year\n"
          ]
        },
        {
          "output_type": "execute_result",
          "data": {
            "text/plain": [
              "{'Cantidad de Items': {1998: 1,\n",
              "  1999: 1,\n",
              "  2000: 2,\n",
              "  2001: 1,\n",
              "  2003: 1,\n",
              "  2004: 5,\n",
              "  2005: 1,\n",
              "  2006: 2,\n",
              "  2007: 3,\n",
              "  2008: 1,\n",
              "  2009: 1,\n",
              "  2010: 2,\n",
              "  2011: 1,\n",
              "  2012: 2,\n",
              "  2014: 7,\n",
              "  2016: 1,\n",
              "  2017: 2},\n",
              " 'Contenido Free': {1998: '0.0%',\n",
              "  1999: '0.0%',\n",
              "  2000: '0.0%',\n",
              "  2001: '0.0%',\n",
              "  2003: '0.0%',\n",
              "  2004: '0.0%',\n",
              "  2005: '0.0%',\n",
              "  2006: '0.0%',\n",
              "  2007: '0.0%',\n",
              "  2008: '0.0%',\n",
              "  2009: '0.0%',\n",
              "  2010: '0.0%',\n",
              "  2011: '0.0%',\n",
              "  2012: '0.0%',\n",
              "  2014: '0.0%',\n",
              "  2016: '0.0%',\n",
              "  2017: '0.0%'}}"
            ]
          },
          "metadata": {},
          "execution_count": 198
        }
      ],
      "source": [
        "developer('Valve')"
      ]
    },
    {
      "cell_type": "code",
      "execution_count": 199,
      "metadata": {
        "colab": {
          "base_uri": "https://localhost:8080/"
        },
        "id": "La5TOLuzjJ1A",
        "outputId": "7a3982b2-8d1f-4489-d003-b8361fe8f23e"
      },
      "outputs": [
        {
          "output_type": "stream",
          "name": "stderr",
          "text": [
            "<ipython-input-196-b4b9677e4cc8>:8: SettingWithCopyWarning: \n",
            "A value is trying to be set on a copy of a slice from a DataFrame.\n",
            "Try using .loc[row_indexer,col_indexer] = value instead\n",
            "\n",
            "See the caveats in the documentation: https://pandas.pydata.org/pandas-docs/stable/user_guide/indexing.html#returning-a-view-versus-a-copy\n",
            "  filtered_steam['release_date'] = pd.to_datetime(filtered_steam['release_date'])\n",
            "<ipython-input-196-b4b9677e4cc8>:9: SettingWithCopyWarning: \n",
            "A value is trying to be set on a copy of a slice from a DataFrame.\n",
            "Try using .loc[row_indexer,col_indexer] = value instead\n",
            "\n",
            "See the caveats in the documentation: https://pandas.pydata.org/pandas-docs/stable/user_guide/indexing.html#returning-a-view-versus-a-copy\n",
            "  filtered_steam['year'] = filtered_steam['release_date'].dt.year\n"
          ]
        },
        {
          "output_type": "execute_result",
          "data": {
            "text/plain": [
              "{'Cantidad de Items': {2011: 1, 2015: 1},\n",
              " 'Contenido Free': {2011: '0.0%', 2015: '0.0%'}}"
            ]
          },
          "metadata": {},
          "execution_count": 199
        }
      ],
      "source": [
        "developer('Re-Logic')"
      ]
    },
    {
      "cell_type": "code",
      "execution_count": 200,
      "metadata": {
        "colab": {
          "base_uri": "https://localhost:8080/"
        },
        "id": "eOqwcwvAjJ1B",
        "outputId": "f94470d8-7256-480a-e4cd-b16b5dd3f487"
      },
      "outputs": [
        {
          "output_type": "stream",
          "name": "stderr",
          "text": [
            "<ipython-input-196-b4b9677e4cc8>:8: SettingWithCopyWarning: \n",
            "A value is trying to be set on a copy of a slice from a DataFrame.\n",
            "Try using .loc[row_indexer,col_indexer] = value instead\n",
            "\n",
            "See the caveats in the documentation: https://pandas.pydata.org/pandas-docs/stable/user_guide/indexing.html#returning-a-view-versus-a-copy\n",
            "  filtered_steam['release_date'] = pd.to_datetime(filtered_steam['release_date'])\n",
            "<ipython-input-196-b4b9677e4cc8>:9: SettingWithCopyWarning: \n",
            "A value is trying to be set on a copy of a slice from a DataFrame.\n",
            "Try using .loc[row_indexer,col_indexer] = value instead\n",
            "\n",
            "See the caveats in the documentation: https://pandas.pydata.org/pandas-docs/stable/user_guide/indexing.html#returning-a-view-versus-a-copy\n",
            "  filtered_steam['year'] = filtered_steam['release_date'].dt.year\n"
          ]
        },
        {
          "output_type": "execute_result",
          "data": {
            "text/plain": [
              "{'Cantidad de Items': {2006: 1, 2010: 8, 2011: 3, 2013: 1, 2015: 7, 2016: 5},\n",
              " 'Contenido Free': {2006: '0.0%',\n",
              "  2010: '0.0%',\n",
              "  2011: '0.0%',\n",
              "  2013: '0.0%',\n",
              "  2015: '0.0%',\n",
              "  2016: '0.0%'}}"
            ]
          },
          "metadata": {},
          "execution_count": 200
        }
      ],
      "source": [
        "developer('Avalanche Studios')"
      ]
    },
    {
      "cell_type": "code",
      "execution_count": 201,
      "metadata": {
        "colab": {
          "base_uri": "https://localhost:8080/"
        },
        "id": "l3D39gRZjJ1B",
        "outputId": "47532578-3a27-4f45-8ca7-997f819c85c8"
      },
      "outputs": [
        {
          "output_type": "execute_result",
          "data": {
            "text/plain": [
              "{'Cantidad de Items': {}, 'Contenido Free': {}}"
            ]
          },
          "metadata": {},
          "execution_count": 201
        }
      ],
      "source": [
        "developer('asdasdasd')"
      ]
    },
    {
      "cell_type": "code",
      "execution_count": 202,
      "metadata": {
        "id": "-Ndyva9Tvjbj"
      },
      "outputs": [],
      "source": [
        "def UserForGenre(genero: str):\n",
        "    # Convertir la columna 'release_date' a tipo datetime\n",
        "    df_steam_exploded['release_date'] = pd.to_datetime(df_steam_exploded['release_date'], errors='coerce')\n",
        "\n",
        "    # Filtrar juegos del género especificado\n",
        "    gf = df_steam_exploded[df_steam_exploded['genres'] == genero]\n",
        "\n",
        "    genero_erroneo = \"\"\"\n",
        "Vuelva a ingresar el género y verifique que sea uno de los siguientes, respetando mayúsculas y puntuación:\n",
        "\n",
        "1. Indie\n",
        "2. Action\n",
        "3. Casual\n",
        "4. Adventure\n",
        "5. Strategy\n",
        "6. Simulation\n",
        "7. RPG\n",
        "8. Free to Play\n",
        "9. Early Access\n",
        "10. Sports\n",
        "11. Massively Multiplayer\n",
        "12. Racing\n",
        "14. Utilities\n",
        "15. Web Publishing\n",
        "16. Education\n",
        "17. Video Production\n",
        "18. Software Training\n",
        "19. Audio Production\n",
        "20. Photo Editing\n",
        "21. Design & Illustration\n",
        "\"\"\"\n",
        "    if gf.empty or genero ==  'Accounting':\n",
        "        return genero_erroneo\n",
        "\n",
        "    # Realizar un left join para mantener todas las filas de gf y luego eliminar filas con playtime_forever NaN\n",
        "    m = gf.merge(df_items, on=['item_name'], how='left').dropna(subset=['playtime_forever']).drop_duplicates()\n",
        "\n",
        "    # Agrupar por usuario y calcular el tiempo total de juego por usuario\n",
        "    user_playtime = m.groupby('user_id')['playtime_forever'].sum()\n",
        "\n",
        "    # Encontrar el usuario con más horas jugadas en ese género\n",
        "    max_playtime_user = user_playtime.idxmax()\n",
        "\n",
        "    # Filtrar el DataFrame para el usuario con más horas jugadas\n",
        "    user_max_playtime = m[m['user_id'] == max_playtime_user]\n",
        "\n",
        "    # Calcular la acumulación de horas jugadas por año para ese usuario\n",
        "    year_playtime = user_max_playtime.groupby(user_max_playtime['release_date'].dt.year)['playtime_forever'].sum()\n",
        "\n",
        "    # Crear la lista de acumulación de horas jugadas por año en el formato especificado\n",
        "    horas_por_anio = [{\"Año\": int(year), \"Horas\": int(hours)} for year, hours in year_playtime.items()]\n",
        "\n",
        "    return {\"Usuario con más horas jugadas para el género \" + genero: max_playtime_user, \"Horas jugadas por año\": horas_por_anio}\n"
      ]
    },
    {
      "cell_type": "code",
      "execution_count": 203,
      "metadata": {
        "colab": {
          "base_uri": "https://localhost:8080/"
        },
        "id": "fSqjgQw4jJ1D",
        "outputId": "df7c5c93-4ce8-4c67-886e-b3132a0bb491"
      },
      "outputs": [
        {
          "output_type": "stream",
          "name": "stderr",
          "text": [
            "<ipython-input-202-fad48674f556>:3: UserWarning: Parsing dates in DD/MM/YYYY format when dayfirst=False (the default) was specified. This may lead to inconsistently parsed dates! Specify a format to ensure consistent parsing.\n",
            "  df_steam_exploded['release_date'] = pd.to_datetime(df_steam_exploded['release_date'], errors='coerce')\n"
          ]
        },
        {
          "output_type": "stream",
          "name": "stdout",
          "text": [
            "{'Usuario con más horas jugadas para el género Action': 'shinomegami', 'Horas jugadas por año': [{'Año': 1988, 'Horas': 136}, {'Año': 1995, 'Horas': 2}, {'Año': 1996, 'Horas': 1161}, {'Año': 1997, 'Horas': 99}, {'Año': 1998, 'Horas': 3716}, {'Año': 1999, 'Horas': 303}, {'Año': 2000, 'Horas': 10775}, {'Año': 2001, 'Horas': 2429}, {'Año': 2003, 'Horas': 532756}, {'Año': 2004, 'Horas': 120}, {'Año': 2005, 'Horas': 343}, {'Año': 2006, 'Horas': 2043}, {'Año': 2007, 'Horas': 68354}, {'Año': 2008, 'Horas': 180}, {'Año': 2009, 'Horas': 209805}, {'Año': 2010, 'Horas': 9405}, {'Año': 2011, 'Horas': 89382}, {'Año': 2012, 'Horas': 18284}, {'Año': 2013, 'Horas': 148625}, {'Año': 2014, 'Horas': 92080}, {'Año': 2015, 'Horas': 102197}, {'Año': 2016, 'Horas': 42563}, {'Año': 2017, 'Horas': 135}]}\n"
          ]
        }
      ],
      "source": [
        "resultado = UserForGenre('Action')\n",
        "print(resultado)\n"
      ]
    },
    {
      "cell_type": "code",
      "execution_count": 204,
      "metadata": {
        "colab": {
          "base_uri": "https://localhost:8080/"
        },
        "id": "9jypt9-W0x-a",
        "outputId": "4173176e-d838-404c-8f9d-40f7f0a60252"
      },
      "outputs": [
        {
          "output_type": "stream",
          "name": "stdout",
          "text": [
            "\n",
            "Vuelva a ingresar el género y verifique que sea uno de los siguientes, respetando mayúsculas y puntuación:\n",
            "\n",
            "1. Indie\n",
            "2. Action\n",
            "3. Casual\n",
            "4. Adventure\n",
            "5. Strategy\n",
            "6. Simulation\n",
            "7. RPG\n",
            "8. Free to Play\n",
            "9. Early Access\n",
            "10. Sports\n",
            "11. Massively Multiplayer\n",
            "12. Racing\n",
            "14. Utilities\n",
            "15. Web Publishing\n",
            "16. Education\n",
            "17. Video Production\n",
            "18. Software Training\n",
            "19. Audio Production\n",
            "20. Photo Editing\n",
            "21. Design & Illustration\n",
            "\n"
          ]
        }
      ],
      "source": [
        "resultado = UserForGenre('ACTION')\n",
        "print(resultado)"
      ]
    },
    {
      "cell_type": "code",
      "execution_count": 205,
      "metadata": {
        "colab": {
          "base_uri": "https://localhost:8080/"
        },
        "id": "NoXEBv_wjJ1D",
        "outputId": "57eda489-4722-40a5-db4b-89cfd8b27263"
      },
      "outputs": [
        {
          "output_type": "execute_result",
          "data": {
            "text/plain": [
              "{'Usuario con más horas jugadas para el género Simulation': 'jimmynoe',\n",
              " 'Horas jugadas por año': [{'Año': 2006, 'Horas': 551719},\n",
              "  {'Año': 2009, 'Horas': 15},\n",
              "  {'Año': 2011, 'Horas': 418043},\n",
              "  {'Año': 2012, 'Horas': 1592},\n",
              "  {'Año': 2013, 'Horas': 1751},\n",
              "  {'Año': 2014, 'Horas': 839},\n",
              "  {'Año': 2015, 'Horas': 73812},\n",
              "  {'Año': 2016, 'Horas': 14349}]}"
            ]
          },
          "metadata": {},
          "execution_count": 205
        }
      ],
      "source": [
        "UserForGenre('Simulation')"
      ]
    },
    {
      "cell_type": "code",
      "execution_count": 206,
      "metadata": {
        "colab": {
          "base_uri": "https://localhost:8080/",
          "height": 72
        },
        "id": "Bqimo7zyjJ1F",
        "outputId": "c548eb38-3658-4222-b529-ff57fea9cc5d"
      },
      "outputs": [
        {
          "output_type": "execute_result",
          "data": {
            "text/plain": [
              "'\\nVuelva a ingresar el género y verifique que sea uno de los siguientes, respetando mayúsculas y puntuación:\\n\\n1. Indie\\n2. Action\\n3. Casual\\n4. Adventure\\n5. Strategy\\n6. Simulation\\n7. RPG\\n8. Free to Play\\n9. Early Access\\n10. Sports\\n11. Massively Multiplayer\\n12. Racing\\n14. Utilities\\n15. Web Publishing\\n16. Education\\n17. Video Production\\n18. Software Training\\n19. Audio Production\\n20. Photo Editing\\n21. Design & Illustration\\n'"
            ],
            "application/vnd.google.colaboratory.intrinsic+json": {
              "type": "string"
            }
          },
          "metadata": {},
          "execution_count": 206
        }
      ],
      "source": [
        "UserForGenre('asdasdasd')"
      ]
    },
    {
      "cell_type": "code",
      "execution_count": 207,
      "metadata": {
        "id": "l5VY_o7qjJ1F"
      },
      "outputs": [],
      "source": [
        "def developer(desarrollador: str):\n",
        "    desarrollador_lower = desarrollador.lower()  # Convertir el nombre del desarrollador a minúsculas\n",
        "    df_steam_lower = df_steam.copy()\n",
        "    df_steam_lower['developer'] = df_steam_lower['developer'].str.lower()  # Convertir los nombres de desarrolladores a minúsculas\n",
        "\n",
        "    filtered_steam = df_steam_lower[df_steam_lower['developer'] == desarrollador_lower]\n",
        "    filtered_steam_exploded = df_steam_exploded[df_steam_exploded['developer'].str.lower() == desarrollador_lower]\n",
        "    filtered_steam['release_date'] = pd.to_datetime(filtered_steam['release_date'])\n",
        "    filtered_steam['year'] = filtered_steam['release_date'].dt.year\n",
        "\n",
        "    grouped = filtered_steam.groupby('year').agg(\n",
        "        {'item_id': 'count', 'price': lambda x: sum(x == 0) / len(x)}\n",
        "    ).rename(columns={'item_id': 'Cantidad de Items', 'price': 'Contenido Free'})\n",
        "    grouped['Contenido Free'] = (grouped['Contenido Free'] * 100).round(1).astype(str) + '%'\n",
        "\n",
        "    return grouped.to_dict()"
      ]
    },
    {
      "cell_type": "code",
      "execution_count": 208,
      "metadata": {
        "colab": {
          "base_uri": "https://localhost:8080/"
        },
        "id": "02db95o0jJ1G",
        "outputId": "a84dca3b-4962-458f-f972-df5c4722c060"
      },
      "outputs": [
        {
          "output_type": "stream",
          "name": "stderr",
          "text": [
            "<ipython-input-207-b4b9677e4cc8>:8: SettingWithCopyWarning: \n",
            "A value is trying to be set on a copy of a slice from a DataFrame.\n",
            "Try using .loc[row_indexer,col_indexer] = value instead\n",
            "\n",
            "See the caveats in the documentation: https://pandas.pydata.org/pandas-docs/stable/user_guide/indexing.html#returning-a-view-versus-a-copy\n",
            "  filtered_steam['release_date'] = pd.to_datetime(filtered_steam['release_date'])\n",
            "<ipython-input-207-b4b9677e4cc8>:9: SettingWithCopyWarning: \n",
            "A value is trying to be set on a copy of a slice from a DataFrame.\n",
            "Try using .loc[row_indexer,col_indexer] = value instead\n",
            "\n",
            "See the caveats in the documentation: https://pandas.pydata.org/pandas-docs/stable/user_guide/indexing.html#returning-a-view-versus-a-copy\n",
            "  filtered_steam['year'] = filtered_steam['release_date'].dt.year\n"
          ]
        },
        {
          "output_type": "execute_result",
          "data": {
            "text/plain": [
              "{'Cantidad de Items': {1998: 1,\n",
              "  1999: 1,\n",
              "  2000: 2,\n",
              "  2001: 1,\n",
              "  2003: 1,\n",
              "  2004: 5,\n",
              "  2005: 1,\n",
              "  2006: 2,\n",
              "  2007: 3,\n",
              "  2008: 1,\n",
              "  2009: 1,\n",
              "  2010: 2,\n",
              "  2011: 1,\n",
              "  2012: 2,\n",
              "  2014: 7,\n",
              "  2016: 1,\n",
              "  2017: 2},\n",
              " 'Contenido Free': {1998: '0.0%',\n",
              "  1999: '0.0%',\n",
              "  2000: '0.0%',\n",
              "  2001: '0.0%',\n",
              "  2003: '0.0%',\n",
              "  2004: '0.0%',\n",
              "  2005: '0.0%',\n",
              "  2006: '0.0%',\n",
              "  2007: '0.0%',\n",
              "  2008: '0.0%',\n",
              "  2009: '0.0%',\n",
              "  2010: '0.0%',\n",
              "  2011: '0.0%',\n",
              "  2012: '0.0%',\n",
              "  2014: '0.0%',\n",
              "  2016: '0.0%',\n",
              "  2017: '0.0%'}}"
            ]
          },
          "metadata": {},
          "execution_count": 208
        }
      ],
      "source": [
        "developer('Valve')"
      ]
    },
    {
      "cell_type": "code",
      "execution_count": 209,
      "metadata": {
        "colab": {
          "base_uri": "https://localhost:8080/"
        },
        "id": "ijFnm5QcjJ1G",
        "outputId": "404738b3-ab20-4f8f-c5fa-e1e0848f5c27"
      },
      "outputs": [
        {
          "output_type": "stream",
          "name": "stderr",
          "text": [
            "<ipython-input-207-b4b9677e4cc8>:8: SettingWithCopyWarning: \n",
            "A value is trying to be set on a copy of a slice from a DataFrame.\n",
            "Try using .loc[row_indexer,col_indexer] = value instead\n",
            "\n",
            "See the caveats in the documentation: https://pandas.pydata.org/pandas-docs/stable/user_guide/indexing.html#returning-a-view-versus-a-copy\n",
            "  filtered_steam['release_date'] = pd.to_datetime(filtered_steam['release_date'])\n",
            "<ipython-input-207-b4b9677e4cc8>:9: SettingWithCopyWarning: \n",
            "A value is trying to be set on a copy of a slice from a DataFrame.\n",
            "Try using .loc[row_indexer,col_indexer] = value instead\n",
            "\n",
            "See the caveats in the documentation: https://pandas.pydata.org/pandas-docs/stable/user_guide/indexing.html#returning-a-view-versus-a-copy\n",
            "  filtered_steam['year'] = filtered_steam['release_date'].dt.year\n"
          ]
        },
        {
          "output_type": "execute_result",
          "data": {
            "text/plain": [
              "{'Cantidad de Items': {1998: 1,\n",
              "  1999: 1,\n",
              "  2000: 2,\n",
              "  2001: 1,\n",
              "  2003: 1,\n",
              "  2004: 5,\n",
              "  2005: 1,\n",
              "  2006: 2,\n",
              "  2007: 3,\n",
              "  2008: 1,\n",
              "  2009: 1,\n",
              "  2010: 2,\n",
              "  2011: 1,\n",
              "  2012: 2,\n",
              "  2014: 7,\n",
              "  2016: 1,\n",
              "  2017: 2},\n",
              " 'Contenido Free': {1998: '0.0%',\n",
              "  1999: '0.0%',\n",
              "  2000: '0.0%',\n",
              "  2001: '0.0%',\n",
              "  2003: '0.0%',\n",
              "  2004: '0.0%',\n",
              "  2005: '0.0%',\n",
              "  2006: '0.0%',\n",
              "  2007: '0.0%',\n",
              "  2008: '0.0%',\n",
              "  2009: '0.0%',\n",
              "  2010: '0.0%',\n",
              "  2011: '0.0%',\n",
              "  2012: '0.0%',\n",
              "  2014: '0.0%',\n",
              "  2016: '0.0%',\n",
              "  2017: '0.0%'}}"
            ]
          },
          "metadata": {},
          "execution_count": 209
        }
      ],
      "source": [
        "developer('valve')"
      ]
    },
    {
      "cell_type": "code",
      "execution_count": 210,
      "metadata": {
        "colab": {
          "base_uri": "https://localhost:8080/"
        },
        "id": "uPL0nqk_jJ1H",
        "outputId": "80f2ba04-c450-4908-afa8-9782ea7ec28a"
      },
      "outputs": [
        {
          "output_type": "execute_result",
          "data": {
            "text/plain": [
              "{'Cantidad de Items': {}, 'Contenido Free': {}}"
            ]
          },
          "metadata": {},
          "execution_count": 210
        }
      ],
      "source": [
        "developer('asdasduags')"
      ]
    },
    {
      "cell_type": "code",
      "execution_count": 211,
      "metadata": {
        "colab": {
          "base_uri": "https://localhost:8080/"
        },
        "id": "OSADIZlmjJ1I",
        "outputId": "ddaed0d8-68bd-465c-896b-2532766c703b"
      },
      "outputs": [
        {
          "output_type": "stream",
          "name": "stderr",
          "text": [
            "<ipython-input-207-b4b9677e4cc8>:8: SettingWithCopyWarning: \n",
            "A value is trying to be set on a copy of a slice from a DataFrame.\n",
            "Try using .loc[row_indexer,col_indexer] = value instead\n",
            "\n",
            "See the caveats in the documentation: https://pandas.pydata.org/pandas-docs/stable/user_guide/indexing.html#returning-a-view-versus-a-copy\n",
            "  filtered_steam['release_date'] = pd.to_datetime(filtered_steam['release_date'])\n",
            "<ipython-input-207-b4b9677e4cc8>:9: SettingWithCopyWarning: \n",
            "A value is trying to be set on a copy of a slice from a DataFrame.\n",
            "Try using .loc[row_indexer,col_indexer] = value instead\n",
            "\n",
            "See the caveats in the documentation: https://pandas.pydata.org/pandas-docs/stable/user_guide/indexing.html#returning-a-view-versus-a-copy\n",
            "  filtered_steam['year'] = filtered_steam['release_date'].dt.year\n"
          ]
        },
        {
          "output_type": "execute_result",
          "data": {
            "text/plain": [
              "{'Cantidad de Items': {2011: 1, 2015: 1},\n",
              " 'Contenido Free': {2011: '0.0%', 2015: '0.0%'}}"
            ]
          },
          "metadata": {},
          "execution_count": 211
        }
      ],
      "source": [
        "developer('Re-Logic')"
      ]
    },
    {
      "cell_type": "code",
      "execution_count": 212,
      "metadata": {
        "id": "iHsdt-jMjJ1J"
      },
      "outputs": [],
      "source": [
        "def userdata(User_id: str):\n",
        "    # Filtrar los dataframes para el usuario proporcionado\n",
        "    # Obtener las filas del dataframe df_items donde la columna 'user_id' coincide con User_id\n",
        "    user_items = df_items[df_items['user_id'] == User_id]\n",
        "\n",
        "    # Obtener las filas del dataframe df_reviews donde la columna 'user_id' coincide con User_id\n",
        "    user_reviews = df_reviews[df_reviews['user_id'] == User_id]\n",
        "\n",
        "    # Calcular el dinero gastado\n",
        "    # Obtener los ids de los items que el usuario ha comprado\n",
        "    item_ids = user_items['item_id'].unique()\n",
        "\n",
        "    # Calcula la suma de los precios de los items comprados por el usuario\n",
        "    steam_prices = df_steam[df_steam['item_id'].isin(item_ids)]['price']\n",
        "    money_spent = steam_prices.sum()\n",
        "\n",
        "    # Calcular el porcentaje de recomendación\n",
        "    total_reviews = len(user_reviews)\n",
        "    if total_reviews > 0:\n",
        "        recommended_reviews = user_reviews[user_reviews['recommend']]['recommend'].count()\n",
        "        recommendation_percentage = (recommended_reviews / total_reviews) * 100\n",
        "    else:\n",
        "        recommendation_percentage = 0\n",
        "\n",
        "    # Contar la cantidad de items\n",
        "    item_count = len(item_ids)\n",
        "\n",
        "    return {\"Usuario\": User_id, \"Dinero gastado\": f\"{money_spent} USD\", \"% de recomendación\": f\"{recommendation_percentage}%\", \"cantidad de items\": item_count}"
      ]
    },
    {
      "cell_type": "code",
      "execution_count": 213,
      "metadata": {
        "colab": {
          "base_uri": "https://localhost:8080/"
        },
        "id": "ppvKaVObjJ1J",
        "outputId": "190ade9f-c1db-4d50-916f-ab3d1b961c81"
      },
      "outputs": [
        {
          "output_type": "execute_result",
          "data": {
            "text/plain": [
              "{'Usuario': 'barbas1',\n",
              " 'Dinero gastado': '0.0 USD',\n",
              " '% de recomendación': '100.0%',\n",
              " 'cantidad de items': 8}"
            ]
          },
          "metadata": {},
          "execution_count": 213
        }
      ],
      "source": [
        "userdata('barbas1')"
      ]
    },
    {
      "cell_type": "code",
      "execution_count": 214,
      "metadata": {
        "colab": {
          "base_uri": "https://localhost:8080/"
        },
        "id": "3PITATLsjJ1L",
        "outputId": "6e2ef8cc-f04a-4b54-ebea-18fb2dab7181"
      },
      "outputs": [
        {
          "output_type": "execute_result",
          "data": {
            "text/plain": [
              "{'Usuario': 'bobseagull',\n",
              " 'Dinero gastado': '0.0 USD',\n",
              " '% de recomendación': '85.71428571428571%',\n",
              " 'cantidad de items': 8}"
            ]
          },
          "metadata": {},
          "execution_count": 214
        }
      ],
      "source": [
        "userdata('bobseagull')"
      ]
    },
    {
      "cell_type": "code",
      "execution_count": 215,
      "metadata": {
        "colab": {
          "base_uri": "https://localhost:8080/"
        },
        "id": "ZOr2AFpSjJ1L",
        "outputId": "3c1dcbdc-f959-4697-dfb8-7e5c97c4132e"
      },
      "outputs": [
        {
          "output_type": "execute_result",
          "data": {
            "text/plain": [
              "{'Usuario': 'Z1_M4N',\n",
              " 'Dinero gastado': '0.0 USD',\n",
              " '% de recomendación': '100.0%',\n",
              " 'cantidad de items': 9}"
            ]
          },
          "metadata": {},
          "execution_count": 215
        }
      ],
      "source": [
        "userdata('Z1_M4N')"
      ]
    },
    {
      "cell_type": "code",
      "execution_count": 216,
      "metadata": {
        "colab": {
          "base_uri": "https://localhost:8080/"
        },
        "id": "ubDQDmnajJ1M",
        "outputId": "3dc8c8bf-f489-4717-91c8-705d406b79c3"
      },
      "outputs": [
        {
          "output_type": "execute_result",
          "data": {
            "text/plain": [
              "{'Usuario': 'asdhaliosdha',\n",
              " 'Dinero gastado': '0.0 USD',\n",
              " '% de recomendación': '0%',\n",
              " 'cantidad de items': 0}"
            ]
          },
          "metadata": {},
          "execution_count": 216
        }
      ],
      "source": [
        "userdata('asdhaliosdha')"
      ]
    },
    {
      "cell_type": "code",
      "execution_count": 217,
      "metadata": {
        "id": "HyUIIbqCjJ1M"
      },
      "outputs": [],
      "source": [
        "def UserForGenre(genero: str):\n",
        "    # Convertir la columna 'release_date' a tipo datetime\n",
        "    df_steam_exploded['release_date'] = pd.to_datetime(df_steam_exploded['release_date'], errors='coerce')\n",
        "\n",
        "    # Filtrar juegos del género especificado\n",
        "    gf = df_steam_exploded[df_steam_exploded['genres'] == genero]\n",
        "\n",
        "    genero_erroneo = \"\"\"\n",
        "Vuelva a ingresar el género y verifique que sea uno de los siguientes, respetando mayúsculas y puntuación:\n",
        "\n",
        "1. Indie\n",
        "2. Action\n",
        "3. Casual\n",
        "4. Adventure\n",
        "5. Strategy\n",
        "6. Simulation\n",
        "7. RPG\n",
        "8. Free to Play\n",
        "9. Early Access\n",
        "10. Sports\n",
        "11. Massively Multiplayer\n",
        "12. Racing\n",
        "14. Utilities\n",
        "15. Web Publishing\n",
        "16. Education\n",
        "17. Video Production\n",
        "18. Software Training\n",
        "19. Audio Production\n",
        "20. Photo Editing\n",
        "21. Design & Illustration\n",
        "\"\"\"\n",
        "    if gf.empty or genero ==  'Accounting':\n",
        "        return genero_erroneo\n",
        "\n",
        "    # Realizar un left join para mantener todas las filas de gf y luego eliminar filas con playtime_forever NaN\n",
        "    m = gf.merge(df_items, on=['item_name'], how='left').dropna(subset=['playtime_forever']).drop_duplicates()\n",
        "\n",
        "    # Agrupar por usuario y calcular el tiempo total de juego por usuario\n",
        "    user_playtime = m.groupby('user_id')['playtime_forever'].sum()\n",
        "\n",
        "    # Encontrar el usuario con más horas jugadas en ese género\n",
        "    max_playtime_user = user_playtime.idxmax()\n",
        "\n",
        "    # Filtrar el DataFrame para el usuario con más horas jugadas\n",
        "    user_max_playtime = m[m['user_id'] == max_playtime_user]\n",
        "\n",
        "    # Calcular la acumulación de horas jugadas por año para ese usuario\n",
        "    year_playtime = user_max_playtime.groupby(user_max_playtime['release_date'].dt.year)['playtime_forever'].sum()\n",
        "\n",
        "    # Crear la lista de acumulación de horas jugadas por año en el formato especificado\n",
        "    horas_por_anio = [{\"Año\": int(year), \"Horas\": int(hours)} for year, hours in year_playtime.items()]\n",
        "\n",
        "    return {\"Usuario con más horas jugadas para el género \" + genero: max_playtime_user, \"Horas jugadas por año\": horas_por_anio}\n"
      ]
    },
    {
      "cell_type": "code",
      "execution_count": 218,
      "metadata": {
        "colab": {
          "base_uri": "https://localhost:8080/"
        },
        "id": "3JgjfiO0jJ1N",
        "outputId": "c4019056-4479-4906-812f-7649d559fccc"
      },
      "outputs": [
        {
          "output_type": "execute_result",
          "data": {
            "text/plain": [
              "{'Usuario con más horas jugadas para el género Casual': 'REBAS_AS_F-T',\n",
              " 'Horas jugadas por año': [{'Año': 2004, 'Horas': 6985},\n",
              "  {'Año': 2008, 'Horas': 1241},\n",
              "  {'Año': 2009, 'Horas': 2870},\n",
              "  {'Año': 2010, 'Horas': 12066},\n",
              "  {'Año': 2011, 'Horas': 81201},\n",
              "  {'Año': 2012, 'Horas': 28625},\n",
              "  {'Año': 2013, 'Horas': 105256},\n",
              "  {'Año': 2014, 'Horas': 117349},\n",
              "  {'Año': 2015, 'Horas': 358359},\n",
              "  {'Año': 2016, 'Horas': 467034},\n",
              "  {'Año': 2017, 'Horas': 58}]}"
            ]
          },
          "metadata": {},
          "execution_count": 218
        }
      ],
      "source": [
        "UserForGenre('Casual')"
      ]
    },
    {
      "cell_type": "code",
      "execution_count": 219,
      "metadata": {
        "colab": {
          "base_uri": "https://localhost:8080/"
        },
        "id": "kVSSytgtjJ1O",
        "outputId": "d9d71f48-91bc-4018-db44-cfd992ba8222"
      },
      "outputs": [
        {
          "output_type": "execute_result",
          "data": {
            "text/plain": [
              "{'Usuario con más horas jugadas para el género Action': 'shinomegami',\n",
              " 'Horas jugadas por año': [{'Año': 1988, 'Horas': 136},\n",
              "  {'Año': 1995, 'Horas': 2},\n",
              "  {'Año': 1996, 'Horas': 1161},\n",
              "  {'Año': 1997, 'Horas': 99},\n",
              "  {'Año': 1998, 'Horas': 3716},\n",
              "  {'Año': 1999, 'Horas': 303},\n",
              "  {'Año': 2000, 'Horas': 10775},\n",
              "  {'Año': 2001, 'Horas': 2429},\n",
              "  {'Año': 2003, 'Horas': 532756},\n",
              "  {'Año': 2004, 'Horas': 120},\n",
              "  {'Año': 2005, 'Horas': 343},\n",
              "  {'Año': 2006, 'Horas': 2043},\n",
              "  {'Año': 2007, 'Horas': 68354},\n",
              "  {'Año': 2008, 'Horas': 180},\n",
              "  {'Año': 2009, 'Horas': 209805},\n",
              "  {'Año': 2010, 'Horas': 9405},\n",
              "  {'Año': 2011, 'Horas': 89382},\n",
              "  {'Año': 2012, 'Horas': 18284},\n",
              "  {'Año': 2013, 'Horas': 148625},\n",
              "  {'Año': 2014, 'Horas': 92080},\n",
              "  {'Año': 2015, 'Horas': 102197},\n",
              "  {'Año': 2016, 'Horas': 42563},\n",
              "  {'Año': 2017, 'Horas': 135}]}"
            ]
          },
          "metadata": {},
          "execution_count": 219
        }
      ],
      "source": [
        "UserForGenre('Action')"
      ]
    },
    {
      "cell_type": "code",
      "execution_count": 220,
      "metadata": {
        "colab": {
          "base_uri": "https://localhost:8080/",
          "height": 72
        },
        "id": "e3bwWZ-yjJ1O",
        "outputId": "af531f03-eb66-4822-b104-0b413f6e2369"
      },
      "outputs": [
        {
          "output_type": "execute_result",
          "data": {
            "text/plain": [
              "'\\nVuelva a ingresar el género y verifique que sea uno de los siguientes, respetando mayúsculas y puntuación:\\n\\n1. Indie\\n2. Action\\n3. Casual\\n4. Adventure\\n5. Strategy\\n6. Simulation\\n7. RPG\\n8. Free to Play\\n9. Early Access\\n10. Sports\\n11. Massively Multiplayer\\n12. Racing\\n14. Utilities\\n15. Web Publishing\\n16. Education\\n17. Video Production\\n18. Software Training\\n19. Audio Production\\n20. Photo Editing\\n21. Design & Illustration\\n'"
            ],
            "application/vnd.google.colaboratory.intrinsic+json": {
              "type": "string"
            }
          },
          "metadata": {},
          "execution_count": 220
        }
      ],
      "source": [
        "UserForGenre('action')"
      ]
    },
    {
      "cell_type": "code",
      "execution_count": 221,
      "metadata": {
        "colab": {
          "base_uri": "https://localhost:8080/",
          "height": 72
        },
        "id": "F-hB2VLljJ1P",
        "outputId": "1148d5c2-0133-4c8c-daa5-db604791eda6"
      },
      "outputs": [
        {
          "output_type": "execute_result",
          "data": {
            "text/plain": [
              "'\\nVuelva a ingresar el género y verifique que sea uno de los siguientes, respetando mayúsculas y puntuación:\\n\\n1. Indie\\n2. Action\\n3. Casual\\n4. Adventure\\n5. Strategy\\n6. Simulation\\n7. RPG\\n8. Free to Play\\n9. Early Access\\n10. Sports\\n11. Massively Multiplayer\\n12. Racing\\n14. Utilities\\n15. Web Publishing\\n16. Education\\n17. Video Production\\n18. Software Training\\n19. Audio Production\\n20. Photo Editing\\n21. Design & Illustration\\n'"
            ],
            "application/vnd.google.colaboratory.intrinsic+json": {
              "type": "string"
            }
          },
          "metadata": {},
          "execution_count": 221
        }
      ],
      "source": [
        "UserForGenre('kasjdfbkal')"
      ]
    },
    {
      "cell_type": "code",
      "source": [
        "df_reviews['posted'] = pd.to_datetime(df_reviews['posted'], format='%d-%m-%Y')\n",
        "df_steam_exploded['release_date'] = pd.to_datetime(df_reviews['posted'])\n",
        "df_steam['release_date'] = pd.to_datetime(df_reviews['posted'])"
      ],
      "metadata": {
        "id": "nN1rAnColLqc"
      },
      "execution_count": 222,
      "outputs": []
    },
    {
      "cell_type": "code",
      "execution_count": 223,
      "metadata": {
        "id": "-8xYJ7aL222x"
      },
      "outputs": [],
      "source": [
        "async def best_developer_year(anio: int):\n",
        "    # Convertir la columna 'posted' a tipo datetime\n",
        "    df_reviews['posted'] = pd.to_datetime(df_reviews['posted'], errors='coerce')\n",
        "\n",
        "    # Filtrar los dataframes para el año especificado\n",
        "    reviews_year = df_reviews[df_reviews['posted'].dt.year == anio]\n",
        "    steam_year = df_steam[df_steam['release_date'].dt.year == anio]\n",
        "\n",
        "    # Filtrar las reseñas para quedarse solo con las recomendadas\n",
        "    reviews_recommended = reviews_year[(reviews_year['recommend'] == True)\\\n",
        "        & (reviews_year['sentiment_analysis'] >= 1)]\n",
        "\n",
        "    # Realizar un merge para combinar la información de las reseñas y juegos\n",
        "    merged = reviews_recommended.merge(steam_year, on='item_id')\n",
        "\n",
        "    # Agrupar por desarrollador y contar el número de reseñas recomendadas\n",
        "    developer_count = merged.groupby('developer')['recommend'].count()\n",
        "\n",
        "    # Ordenar los desarrolladores por el número de reseñas recomendadas de forma descendente\n",
        "    sorted_developers = developer_count.sort_values(ascending=False)\n",
        "\n",
        "    # Seleccionar los primeros tres desarrolladores\n",
        "    top_3_developers = sorted_developers.head(3)\n",
        "\n",
        "    # Crear el resultado en el formato especificado\n",
        "    result = {str(anio): top_3_developers.to_dict()}\n",
        "\n",
        "    return result\n"
      ]
    },
    {
      "cell_type": "code",
      "execution_count": 238,
      "metadata": {
        "colab": {
          "base_uri": "https://localhost:8080/"
        },
        "id": "igKU1ijs4x3o",
        "outputId": "96dc4f13-4fc6-4535-89c4-4718cd80c5e4"
      },
      "outputs": [
        {
          "output_type": "execute_result",
          "data": {
            "text/plain": [
              "<coroutine object best_developer_year at 0x7cb518566570>"
            ]
          },
          "metadata": {},
          "execution_count": 238
        }
      ],
      "source": [
        "best_developer_year(2015)"
      ]
    },
    {
      "cell_type": "code",
      "execution_count": 225,
      "metadata": {
        "id": "KyJabjd641pK"
      },
      "outputs": [],
      "source": [
        "def developer_reviews_analysis(desarrolladora: str):\n",
        "    desarrolladora_lower = desarrolladora.lower()\n",
        "    df_steam_lower = df_steam.copy()\n",
        "    df_steam_lower['developer'] = df_steam_lower['developer'].str.lower()\n",
        "\n",
        "    # Hacer un merge entre df_reviews y df_steam usando la columna 'item_id'\n",
        "    df_merged = pd.merge(df_reviews, df_steam_lower, on='item_id')\n",
        "\n",
        "    # Filtrar los juegos desarrollados por la desarrolladora dada\n",
        "    df_filtered = df_merged[df_merged['developer'] == desarrolladora_lower]\n",
        "\n",
        "    # Filtrar las reseñas con análisis de sentimiento positivo o negativo\n",
        "    df_filtered = df_filtered[df_filtered['sentiment_analysis'].isin([0, 2])]\n",
        "\n",
        "    # Contar la cantidad de reseñas negativas y positivas\n",
        "    negative_count = df_filtered[df_filtered['sentiment_analysis'] == 0].shape[0]\n",
        "    positive_count = df_filtered[df_filtered['sentiment_analysis'] == 2].shape[0]\n",
        "\n",
        "    # Crear el diccionario de retorno\n",
        "    result = {desarrolladora: {'Negative': negative_count, 'Positive': positive_count}}\n",
        "\n",
        "    return result\n"
      ]
    },
    {
      "cell_type": "code",
      "execution_count": 226,
      "metadata": {
        "colab": {
          "base_uri": "https://localhost:8080/"
        },
        "id": "YMzyNw5wAX7n",
        "outputId": "71a35a05-8551-43f9-92eb-55cd93944763"
      },
      "outputs": [
        {
          "output_type": "execute_result",
          "data": {
            "text/plain": [
              "{'Valve': {'Negative': 927, 'Positive': 5410}}"
            ]
          },
          "metadata": {},
          "execution_count": 226
        }
      ],
      "source": [
        "developer_reviews_analysis('Valve')"
      ]
    },
    {
      "cell_type": "code",
      "execution_count": 227,
      "metadata": {
        "colab": {
          "base_uri": "https://localhost:8080/"
        },
        "id": "sYZp4g-ojJ1T",
        "outputId": "f26be341-3f3e-4cfd-ef10-f214e07f1a91"
      },
      "outputs": [
        {
          "output_type": "execute_result",
          "data": {
            "text/plain": [
              "{'Avalanche Studios': {'Negative': 43, 'Positive': 193}}"
            ]
          },
          "metadata": {},
          "execution_count": 227
        }
      ],
      "source": [
        "developer_reviews_analysis('Avalanche Studios')"
      ]
    },
    {
      "cell_type": "code",
      "execution_count": 228,
      "metadata": {
        "colab": {
          "base_uri": "https://localhost:8080/"
        },
        "id": "Dwc9UoGCjJ1T",
        "outputId": "6c1e3bde-b605-4ca0-f954-b1ec45adf8ce"
      },
      "outputs": [
        {
          "output_type": "execute_result",
          "data": {
            "text/plain": [
              "{'valve': {'Negative': 927, 'Positive': 5410}}"
            ]
          },
          "metadata": {},
          "execution_count": 228
        }
      ],
      "source": [
        "developer_reviews_analysis('valve')"
      ]
    },
    {
      "cell_type": "code",
      "execution_count": 229,
      "metadata": {
        "colab": {
          "base_uri": "https://localhost:8080/"
        },
        "id": "VXlNB-MOjJ1U",
        "outputId": "a792d186-8ae4-421c-e6e4-ebb69b0e5375"
      },
      "outputs": [
        {
          "output_type": "execute_result",
          "data": {
            "text/plain": [
              "{'asdasdasda': {'Negative': 0, 'Positive': 0}}"
            ]
          },
          "metadata": {},
          "execution_count": 229
        }
      ],
      "source": [
        "developer_reviews_analysis('asdasdasda')"
      ]
    },
    {
      "cell_type": "code",
      "execution_count": 230,
      "metadata": {
        "colab": {
          "base_uri": "https://localhost:8080/"
        },
        "id": "VMp9VrkbjJ1U",
        "outputId": "c035ced8-827e-4e88-8419-db4bcc49d31f"
      },
      "outputs": [
        {
          "output_type": "execute_result",
          "data": {
            "text/plain": [
              "{'Facepunch Studios': {'Negative': 287, 'Positive': 1432}}"
            ]
          },
          "metadata": {},
          "execution_count": 230
        }
      ],
      "source": [
        "developer_reviews_analysis('Facepunch Studios')"
      ]
    },
    {
      "cell_type": "code",
      "execution_count": 231,
      "metadata": {
        "colab": {
          "base_uri": "https://localhost:8080/"
        },
        "id": "2bT1ogqHjJ1V",
        "outputId": "ea133982-b11d-4afa-d4ab-7e5ad1dbfdec"
      },
      "outputs": [
        {
          "output_type": "execute_result",
          "data": {
            "text/plain": [
              "{'facepunch studios': {'Negative': 287, 'Positive': 1432}}"
            ]
          },
          "metadata": {},
          "execution_count": 231
        }
      ],
      "source": [
        "developer_reviews_analysis('facepunch studios')"
      ]
    },
    {
      "cell_type": "markdown",
      "metadata": {
        "id": "_DovE6iN0-IY"
      },
      "source": [
        "\n",
        "Modelo de aprendizaje automático:\n",
        "\n",
        "Una vez que toda la data es consumible por la API, está lista para consumir por los departamentos de Analytics y Machine Learning, y nuestro EDA nos permite entender bien los datos a los que tenemos acceso, es hora de entrenar nuestro modelo de machine learning para armar un sistema de recomendación. Para ello, te ofrecen dos propuestas de trabajo: En la primera, el modelo deberá tener una relación ítem-ítem, esto es se toma un item, en base a que tan similar esa ese ítem al resto, se recomiendan similares. Aquí el input es un juego y el output es una lista de juegos recomendados, para ello recomendamos aplicar la similitud del coseno. La otra propuesta para el sistema de recomendación debe aplicar el filtro user-item, esto es tomar un usuario, se encuentran usuarios similares y se recomiendan ítems que a esos usuarios similares les gustaron. En este caso el input es un usuario y el output es una lista de juegos que se le recomienda a ese usuario, en general se explican como “A usuarios que son similares a tí también les gustó…”. Deben crear al menos uno de los dos sistemas de recomendación (Si se atreven a tomar el desafío, para mostrar su capacidad al equipo, ¡pueden hacer ambos!). Tu líder pide que el modelo derive obligatoriamente en un GET/POST en la API símil al siguiente formato:\n",
        "\n",
        "Si es un sistema de recomendación item-item:\n",
        "\n",
        "def recomendacion_juego( id de producto ): Ingresando el id de producto, deberíamos recibir una lista con 5 juegos recomendados similares al ingresado.\n",
        "Si es un sistema de recomendación user-item:\n",
        "\n",
        "def recomendacion_usuario( id de usuario ): Ingresando el id de un usuario, deberíamos recibir una lista con 5 juegos recomendados para dicho usuario."
      ]
    },
    {
      "cell_type": "code",
      "execution_count": 232,
      "metadata": {
        "id": "Hyq1EdpwjJ1W"
      },
      "outputs": [],
      "source": [
        "from sklearn.metrics.pairwise import cosine_similarity\n",
        "\n",
        "df_reviews_shuffled = df_reviews.head(10000)\n",
        "df_reviews_shuffled = df_reviews_shuffled.sample(frac=1, random_state=42)\n",
        "\n",
        "# Crear una matriz de usuarios como características y juegos como filas\n",
        "user_item_matrix = df_reviews_shuffled.pivot_table(index='user_id', columns='item_id', values='sentiment_analysis').fillna(0)\n",
        "\n",
        "# Calcular la similitud entre usuarios usando la similitud del coseno\n",
        "user_similarity = cosine_similarity(user_item_matrix)"
      ]
    },
    {
      "cell_type": "code",
      "execution_count": 233,
      "metadata": {
        "id": "hocyzSsEjJ1X"
      },
      "outputs": [],
      "source": [
        "\n",
        "def recomendacion_usuario(user_id):\n",
        "    if  df_reviews_shuffled[df_reviews_shuffled['user_id'] == user_id].shape[0] == 0:\n",
        "        return 'El usuario no está en la base de datos'\n",
        "    # Obtener la fila correspondiente al usuario ingresado\n",
        "    user_vector = user_item_matrix.loc[user_id].values.reshape(1, -1)\n",
        "\n",
        "    # Calcular la similitud entre el usuario ingresado y todos los demás usuarios\n",
        "    similarities = cosine_similarity(user_vector, user_item_matrix)\n",
        "\n",
        "    # Obtener los juegos que los usuarios similares a 'user_id' han disfrutado\n",
        "    user_reviews = user_item_matrix.loc[user_id]\n",
        "    similar_users = user_item_matrix.index[similarities.argsort()[0][-6:-1]]\n",
        "    recommended_items = user_item_matrix.loc[similar_users].mean(axis=0).sort_values(ascending=False)\n",
        "\n",
        "    # Filtrar los juegos que el usuario ya ha jugado\n",
        "    recommended_items = recommended_items[~recommended_items.index.isin(user_reviews[user_reviews > 0].index)]\n",
        "\n",
        "    return recommended_items.index.tolist()[:5]"
      ]
    },
    {
      "cell_type": "markdown",
      "metadata": {
        "id": "hz_TEXY1jJ1Y"
      },
      "source": [
        "Este modelo de aprendizaje automático utiliza la técnica de filtro colaborativo basado en usuarios para hacer recomendaciones de juegos a un usuario en particular. Aquí está una explicación paso a paso del código:\n",
        "\n",
        "Se importa cosine_similarity de sklearn.metrics.pairwise, que se utilizará para calcular la similitud entre usuarios.\n",
        "Se crea una matriz dispersa user_item_matrix con usuarios como índices, juegos como columnas y valores de análisis de sentimiento como entradas. Los valores faltantes se llenan con 0.\n",
        "Se calcula la similitud entre usuarios utilizando la similitud del coseno.\n",
        "La función recomendacion_usuario toma como argumento un user_id.\n",
        "Si el user_id no está en el conjunto de datos, la función devuelve un mensaje indicando que el usuario no está en la base de datos.\n",
        "Se obtiene la fila correspondiente al user_id ingresado de la matriz user_item_matrix.\n",
        "Se calcula la similitud entre el usuario ingresado y todos los demás usuarios utilizando la similitud del coseno.\n",
        "Se obtienen los índices de los juegos que el usuario ha revisado.\n",
        "Se seleccionan los usuarios más similares al usuario ingresado y se calcula la media de sus juegos jugados para obtener una lista de juegos recomendados.\n",
        "Se filtran los juegos que el usuario ya ha jugado.\n",
        "La función devuelve una lista con los 5 juegos recomendados.\n",
        "Este modelo utiliza la similitud entre usuarios para hacer recomendaciones basándose en el comportamiento de otros usuarios similares. Si a otros usuarios similares les gustó un juego en particular, es más probable que a este usuario también le guste ese juego."
      ]
    },
    {
      "cell_type": "markdown",
      "metadata": {
        "id": "ovdR4xN7jJ1Z"
      },
      "source": [
        "La función recomendacion_usuario devuelve 5 juegos que cumplen con las siguientes condiciones:\n",
        "\n",
        "No han sido jugados por el usuario: La función filtra los juegos que el usuario ya ha jugado. Esto se hace para asegurarse de que se estén recomendando juegos nuevos al usuario.\n",
        "\n",
        "Tienen la puntuación promedio más alta: La función calcula la media de los juegos jugados por los usuarios más similares al usuario ingresado. Luego, ordena estos juegos por la media en orden descendente, y selecciona los 5 juegos con la puntuación promedio más alta.\n",
        "\n",
        "Similares a los gustos del usuario: La similitud entre usuarios se calcula utilizando la similitud del coseno, que mide la similitud entre los perfiles de juegos de dos usuarios. Al seleccionar los usuarios más similares y promediar sus juegos jugados, se está asumiendo que si a esos usuarios les gustaron ciertos juegos, es probable que al usuario ingresado también le gusten esos juegos.\n"
      ]
    },
    {
      "cell_type": "code",
      "execution_count": 234,
      "metadata": {
        "id": "BBFCExESjJ1Z",
        "colab": {
          "base_uri": "https://localhost:8080/"
        },
        "outputId": "3c67e4ce-2c6a-4af5-b7ed-701f4853c394"
      },
      "outputs": [
        {
          "output_type": "execute_result",
          "data": {
            "text/plain": [
              "[10, 272510, 274190, 274170, 273770]"
            ]
          },
          "metadata": {},
          "execution_count": 234
        }
      ],
      "source": [
        "recomendacion_usuario('barbas1')"
      ]
    },
    {
      "cell_type": "code",
      "execution_count": 235,
      "metadata": {
        "id": "P3uZZuwW18a-",
        "colab": {
          "base_uri": "https://localhost:8080/"
        },
        "outputId": "69f7d67c-de66-46ef-d236-d7fe472f4517"
      },
      "outputs": [
        {
          "output_type": "execute_result",
          "data": {
            "text/plain": [
              "[204360, 49600, 221640, 274270, 274250]"
            ]
          },
          "metadata": {},
          "execution_count": 235
        }
      ],
      "source": [
        "recomendacion_usuario('bobseagull')"
      ]
    },
    {
      "cell_type": "code",
      "execution_count": 236,
      "metadata": {
        "id": "Y8ZcFX0K2AAl",
        "colab": {
          "base_uri": "https://localhost:8080/"
        },
        "outputId": "8e9afc3b-66b9-45ba-a2b5-48f0ba196d5f"
      },
      "outputs": [
        {
          "output_type": "execute_result",
          "data": {
            "text/plain": [
              "[10, 272600, 274190, 274170, 273770]"
            ]
          },
          "metadata": {},
          "execution_count": 236
        }
      ],
      "source": [
        "recomendacion_usuario('Z1_M4N')"
      ]
    }
  ],
  "metadata": {
    "colab": {
      "provenance": []
    },
    "kernelspec": {
      "display_name": "Python 3",
      "name": "python3"
    },
    "language_info": {
      "codemirror_mode": {
        "name": "ipython",
        "version": 3
      },
      "file_extension": ".py",
      "mimetype": "text/x-python",
      "name": "python",
      "nbconvert_exporter": "python",
      "pygments_lexer": "ipython3",
      "version": "3.11.3"
    }
  },
  "nbformat": 4,
  "nbformat_minor": 0
}